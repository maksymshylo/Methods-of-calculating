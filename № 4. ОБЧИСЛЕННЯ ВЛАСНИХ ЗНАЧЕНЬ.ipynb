{
 "cells": [
  {
   "cell_type": "code",
   "execution_count": 1,
   "metadata": {},
   "outputs": [],
   "source": [
    "import numpy as np"
   ]
  },
  {
   "cell_type": "code",
   "execution_count": 2,
   "metadata": {},
   "outputs": [],
   "source": [
    "A = np.array([[2.2,   1, 0.5,    2],\n",
    "              [1  , 1.3,   2,    1],\n",
    "              [0.5,   2, 0.5,  1.6],\n",
    "              [  2,   1, 1.6,   2]], dtype = float)"
   ]
  },
  {
   "cell_type": "code",
   "execution_count": 3,
   "metadata": {},
   "outputs": [
    {
     "name": "stdout",
     "output_type": "stream",
     "text": [
      "[ 5.65203233  1.54541834  0.22263593 -1.42008659]\n",
      "\n",
      "[[ 0.53173607  0.62892976  0.52192057  0.22204284]\n",
      " [ 0.44619412 -0.57257423  0.45486932 -0.51591032]\n",
      " [ 0.40881553 -0.4856538  -0.15344702  0.75727423]\n",
      " [ 0.59248411  0.20185762 -0.7050864  -0.33327054]]\n"
     ]
    }
   ],
   "source": [
    "w, v = np.linalg.eig(A)\n",
    "print(w)\n",
    "print()\n",
    "print(v)"
   ]
  },
  {
   "cell_type": "code",
   "execution_count": 4,
   "metadata": {},
   "outputs": [],
   "source": [
    "delta = [[9,11],[6.7,8],[4.1,6],[1,4]]"
   ]
  },
  {
   "cell_type": "code",
   "execution_count": 5,
   "metadata": {},
   "outputs": [],
   "source": [
    "\n",
    "def Danilevskyi_method(A):\n",
    "    K= np.eye(4)\n",
    "    for k in range(0,A.shape[0] -1):\n",
    "        B = np.eye(A.shape[0])\n",
    "        for i in range(0,len( B[B.shape[0] - 2])):\n",
    "            if i == A.shape[1]-(2+k):\n",
    "                B[B.shape[0] - (2+k),i] = 1/A[A.shape[0]-(1+k), A.shape[1]-(2+k)]\n",
    "            else:\n",
    "                B[B.shape[0] - (2+k),i] = - A[A.shape[0]-(1+k),i]/A[A.shape[0]-(1+k), A.shape[1]-(2+k)]\n",
    "        B_1 = np.linalg.inv(B)\n",
    "        D = np.round(B_1.dot(A).dot(B),2)\n",
    "        K = np.concatenate((K,B),0)\n",
    "        A = D\n",
    "    return A"
   ]
  },
  {
   "cell_type": "code",
   "execution_count": 6,
   "metadata": {},
   "outputs": [
    {
     "data": {
      "text/plain": [
       "array([[  6.01,   0.14, -12.74,   2.78],\n",
       "       [  1.  ,   0.  ,   0.  ,   0.  ],\n",
       "       [  0.  ,   1.  ,   0.  ,   0.  ],\n",
       "       [  0.  ,   0.  ,   1.  ,   0.  ]])"
      ]
     },
     "execution_count": 6,
     "metadata": {},
     "output_type": "execute_result"
    }
   ],
   "source": [
    "Danilevskyi_method(A)"
   ]
  },
  {
   "cell_type": "code",
   "execution_count": 62,
   "metadata": {},
   "outputs": [
    {
     "data": {
      "text/plain": [
       "array([[1., 0., 0., 0.],\n",
       "       [0., 1., 0., 0.],\n",
       "       [0., 0., 1., 0.],\n",
       "       [0., 0., 0., 1.]])"
      ]
     },
     "execution_count": 62,
     "metadata": {},
     "output_type": "execute_result"
    }
   ],
   "source": [
    "K"
   ]
  },
  {
   "cell_type": "code",
   "execution_count": null,
   "metadata": {},
   "outputs": [],
   "source": []
  },
  {
   "cell_type": "code",
   "execution_count": null,
   "metadata": {},
   "outputs": [],
   "source": []
  },
  {
   "cell_type": "code",
   "execution_count": null,
   "metadata": {},
   "outputs": [],
   "source": []
  },
  {
   "cell_type": "code",
   "execution_count": 31,
   "metadata": {},
   "outputs": [
    {
     "data": {
      "text/plain": [
       "array([-6.01, -0.14, 12.74, -2.78])"
      ]
     },
     "execution_count": 31,
     "metadata": {},
     "output_type": "execute_result"
    }
   ],
   "source": [
    "coef = -Danilevskyi_method(A)[0,]\n",
    "coef"
   ]
  },
  {
   "cell_type": "code",
   "execution_count": 32,
   "metadata": {},
   "outputs": [
    {
     "data": {
      "text/plain": [
       "array([ 5.65, -1.42,  1.55,  0.22])"
      ]
     },
     "execution_count": 32,
     "metadata": {},
     "output_type": "execute_result"
    }
   ],
   "source": [
    "coef=np.concatenate((np.array([pow(1,A.shape[0])]), coef), axis=None)\n",
    "np.round(np.roots(coef),2)"
   ]
  },
  {
   "cell_type": "code",
   "execution_count": 25,
   "metadata": {},
   "outputs": [
    {
     "data": {
      "text/plain": [
       "array([ 1.  , -6.01, -0.14, 12.74, -2.78])"
      ]
     },
     "execution_count": 25,
     "metadata": {},
     "output_type": "execute_result"
    }
   ],
   "source": [
    "coef"
   ]
  },
  {
   "cell_type": "code",
   "execution_count": 26,
   "metadata": {},
   "outputs": [],
   "source": [
    "def f(t):\n",
    "    f = 0\n",
    "    for i in range(0,len(coef)):\n",
    "        f = f + coef[i]*pow(t,len(coef) -i -1)\n",
    "    return f"
   ]
  },
  {
   "cell_type": "code",
   "execution_count": 15,
   "metadata": {},
   "outputs": [],
   "source": [
    "e = 0.0000001\n",
    "def method_of_chords(a,b):\n",
    "    k=0\n",
    "    while abs(a- (a - (f(a)*(a-b))/(f(a)-f(b)))   ) > e:\n",
    "        k = k + 1\n",
    "        a = a - (f(a)*(a-b))/(f(a)-f(b))\n",
    "        b = b\n",
    "    return a\n"
   ]
  },
  {
   "cell_type": "code",
   "execution_count": 16,
   "metadata": {},
   "outputs": [],
   "source": [
    "own_numbers = []\n",
    "for i in delta:\n",
    "    own_numbers.append(method_of_chords(i[0],i[1]))"
   ]
  },
  {
   "cell_type": "code",
   "execution_count": 17,
   "metadata": {},
   "outputs": [
    {
     "data": {
      "text/plain": [
       "[10.406723910900103, 7.326519373447115, 5.68211043843639, 3.3846461896125337]"
      ]
     },
     "execution_count": 17,
     "metadata": {},
     "output_type": "execute_result"
    }
   ],
   "source": [
    "own_numbers"
   ]
  },
  {
   "cell_type": "code",
   "execution_count": 40,
   "metadata": {},
   "outputs": [
    {
     "data": {
      "text/plain": [
       "array([[1, 2, 3],\n",
       "       [4, 5, 6]])"
      ]
     },
     "execution_count": 40,
     "metadata": {},
     "output_type": "execute_result"
    }
   ],
   "source": [
    "a = np.array([[1,2,3]])\n",
    "b = np.array([[4,5,6]])\n",
    "np.concatenate((a,b),0)"
   ]
  },
  {
   "cell_type": "code",
   "execution_count": 63,
   "metadata": {},
   "outputs": [],
   "source": [
    "B1= np.array([[ 1.        ,  0.        ,  0.        ,  0.        ],\n",
    "       [ 0.        ,  1.        ,  0.        ,  0.        ],\n",
    "       [-1.25      , -0.625     ,  0.625     , -1.25      ],\n",
    "       [ 0.        ,  0.        ,  0.        ,  1.        ]])"
   ]
  },
  {
   "cell_type": "code",
   "execution_count": 64,
   "metadata": {},
   "outputs": [],
   "source": [
    "B2 = np.array([[ 1.        ,  0.        ,  0.        ,  0.        ],\n",
    "       [-0.35194175,  0.24271845, -1.0631068 , -0.68203883],\n",
    "       [ 0.        ,  0.        ,  1.        ,  0.        ],\n",
    "       [ 0.        ,  0.        ,  0.        ,  1.        ]])"
   ]
  },
  {
   "cell_type": "code",
   "execution_count": 65,
   "metadata": {},
   "outputs": [],
   "source": [
    "B3 = np.array([ [-0.23201856,  1.08352668,  1.65429234, -1.16009281],\n",
    "       [ 0.        ,  1.        ,  0.        ,  0.        ],\n",
    "       [ 0.        ,  0.        ,  1.        ,  0.        ],\n",
    "       [ 0.        ,  0.        ,  0.        ,  1.        ]])"
   ]
  },
  {
   "cell_type": "code",
   "execution_count": 94,
   "metadata": {},
   "outputs": [],
   "source": [
    "B = np.round(B3.dot(B2).dot(B1),2)"
   ]
  },
  {
   "cell_type": "code",
   "execution_count": 95,
   "metadata": {},
   "outputs": [
    {
     "data": {
      "text/plain": [
       "array([[-1.24, -0.05,  0.31, -2.53],\n",
       "       [ 0.98,  0.91, -0.66,  0.65],\n",
       "       [-1.25, -0.62,  0.62, -1.25],\n",
       "       [ 0.  ,  0.  ,  0.  ,  1.  ]])"
      ]
     },
     "execution_count": 95,
     "metadata": {},
     "output_type": "execute_result"
    }
   ],
   "source": [
    "B"
   ]
  },
  {
   "cell_type": "code",
   "execution_count": 96,
   "metadata": {},
   "outputs": [],
   "source": [
    "y1 = np.array([w[0]**3,w[0]**2,w[0]**1, w[0]**0])\n",
    "y2 = np.array([w[1]**3,w[1]**2,w[1]**1, w[1]**0])\n",
    "y3 = np.array([w[2]**3,w[2]**2,w[2]**1, w[2]**0])\n",
    "y4 = np.array([w[3]**3,w[3]**2,w[3]**1, w[3]**0])"
   ]
  },
  {
   "cell_type": "code",
   "execution_count": 97,
   "metadata": {},
   "outputs": [],
   "source": [
    "x1 = B.dot(y1)\n",
    "x2 = B.dot(y2)\n",
    "x3 = B.dot(y3)\n",
    "x4 = B.dot(y4)"
   ]
  },
  {
   "cell_type": "code",
   "execution_count": 98,
   "metadata": {},
   "outputs": [
    {
     "name": "stdout",
     "output_type": "stream",
     "text": [
      "[-226.26560813  202.93572571 -243.24796397    1.        ]\n",
      "[-6.74711441  5.42052429 -6.38628539  1.        ]\n",
      "[-2.47714502  0.55898067 -1.15649129  1.        ]\n",
      "[0.48006756 0.61586933 0.19899065 1.        ]\n"
     ]
    }
   ],
   "source": [
    "print(x1)\n",
    "print(x2)\n",
    "print(x3)\n",
    "print(x4)"
   ]
  },
  {
   "cell_type": "code",
   "execution_count": 99,
   "metadata": {},
   "outputs": [
    {
     "name": "stdout",
     "output_type": "stream",
     "text": [
      "-0.5812207909368504\n",
      "0.5212920513371706\n",
      "-0.6248442933210882\n",
      "0.00256875446406308\n"
     ]
    }
   ],
   "source": [
    "for i in range(0,4):\n",
    "    print(x1[i]/np.linalg.norm(x1))"
   ]
  },
  {
   "cell_type": "code",
   "execution_count": 100,
   "metadata": {},
   "outputs": [
    {
     "name": "stdout",
     "output_type": "stream",
     "text": [
      "-0.017331680265724545\n",
      "0.013923995957398107\n",
      "-0.016404799112570548\n",
      "0.00256875446406308\n"
     ]
    }
   ],
   "source": [
    "for i in range(0,4):\n",
    "    print(x2[i]/np.linalg.norm(x1))"
   ]
  },
  {
   "cell_type": "code",
   "execution_count": 101,
   "metadata": {},
   "outputs": [
    {
     "name": "stdout",
     "output_type": "stream",
     "text": [
      "-0.0063631773355641115\n",
      "0.0014358840913170454\n",
      "-0.0029707421632959286\n",
      "0.00256875446406308\n"
     ]
    }
   ],
   "source": [
    "for i in range(0,4):\n",
    "    print(x3[i]/np.linalg.norm(x1))"
   ]
  },
  {
   "cell_type": "code",
   "execution_count": 102,
   "metadata": {},
   "outputs": [
    {
     "name": "stdout",
     "output_type": "stream",
     "text": [
      "0.0012331756895657983\n",
      "0.0015820170991632217\n",
      "0.0005111581270736246\n",
      "0.00256875446406308\n"
     ]
    }
   ],
   "source": [
    "for i in range(0,4):\n",
    "    print(x4[i]/np.linalg.norm(x1))"
   ]
  },
  {
   "cell_type": "code",
   "execution_count": null,
   "metadata": {},
   "outputs": [],
   "source": []
  }
 ],
 "metadata": {
  "kernelspec": {
   "display_name": "Python 3",
   "language": "python",
   "name": "python3"
  },
  "language_info": {
   "codemirror_mode": {
    "name": "ipython",
    "version": 3
   },
   "file_extension": ".py",
   "mimetype": "text/x-python",
   "name": "python",
   "nbconvert_exporter": "python",
   "pygments_lexer": "ipython3",
   "version": "3.7.1"
  }
 },
 "nbformat": 4,
 "nbformat_minor": 2
}
