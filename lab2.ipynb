{
 "cells": [
  {
   "cell_type": "code",
   "execution_count": 29,
   "metadata": {
    "ExecuteTime": {
     "end_time": "2019-03-14T08:37:34.801186Z",
     "start_time": "2019-03-14T08:37:32.257440Z"
    }
   },
   "outputs": [],
   "source": [
    "import numpy as np"
   ]
  },
  {
   "cell_type": "code",
   "execution_count": 33,
   "metadata": {
    "ExecuteTime": {
     "end_time": "2019-03-14T08:57:40.218881Z",
     "start_time": "2019-03-14T08:57:40.198937Z"
    }
   },
   "outputs": [
    {
     "name": "stdout",
     "output_type": "stream",
     "text": [
      "[ 0.94107373 -0.45285249  1.1000052  -0.38301968]\n",
      "False\n",
      "False\n",
      "False\n",
      "False\n",
      "(4, 4)\n"
     ]
    },
    {
     "data": {
      "text/plain": [
       "array([ 0.94107373, -0.45285249,  1.1000052 , -0.38301968])"
      ]
     },
     "execution_count": 33,
     "metadata": {},
     "output_type": "execute_result"
    }
   ],
   "source": [
    "A = np.array([[3.81, 0.25, 1.28, 1.75],\n",
    "              [2.25, 1.32, 5.58, 0.49],\n",
    "              [5.31, 7.28, 0.98, 1.04],\n",
    "              [10.39, 2.45, 3.35, 2.28]])\n",
    "\n",
    "b = np.array([4.21, 7.47, 2.38, 11.48])\n",
    "print(np.linalg.solve(A,b))\n",
    "def check_diag_more(a):\n",
    "    r = []\n",
    "    for i in range(0,a.shape[0]):\n",
    "        s = []\n",
    "        for j in range(0, a.shape[1]):\n",
    "            if i == j:\n",
    "                s.append(0)\n",
    "            else:\n",
    "                s.append(abs(a[i,j]))\n",
    "        r.append(sum(s))\n",
    "    r = np.array(r)\n",
    "    for i in range(0,len(r)):\n",
    "        if abs(np.diag(a)[i]) >= r[i]:\n",
    "            print(True)\n",
    "        else:\n",
    "            print(False)\n",
    "            \n",
    "            "
   ]
  },
  {
   "cell_type": "code",
   "execution_count": 31,
   "metadata": {},
   "outputs": [
    {
     "name": "stdout",
     "output_type": "stream",
     "text": [
      "True\n",
      "False\n",
      "False\n",
      "False\n"
     ]
    },
    {
     "ename": "NameError",
     "evalue": "name 'B' is not defined",
     "output_type": "error",
     "traceback": [
      "\u001b[1;31m---------------------------------------------------------------------------\u001b[0m",
      "\u001b[1;31mNameError\u001b[0m                                 Traceback (most recent call last)",
      "\u001b[1;32m<ipython-input-31-f63b69505510>\u001b[0m in \u001b[0;36m<module>\u001b[1;34m\u001b[0m\n\u001b[0;32m      1\u001b[0m \u001b[0mcheck_diag_more\u001b[0m\u001b[1;33m(\u001b[0m\u001b[0mA\u001b[0m\u001b[1;33m)\u001b[0m\u001b[1;33m\u001b[0m\u001b[1;33m\u001b[0m\u001b[0m\n\u001b[1;32m----> 2\u001b[1;33m \u001b[0mnp\u001b[0m\u001b[1;33m.\u001b[0m\u001b[0mlinalg\u001b[0m\u001b[1;33m.\u001b[0m\u001b[0msolve\u001b[0m\u001b[1;33m(\u001b[0m\u001b[0mA\u001b[0m\u001b[1;33m,\u001b[0m\u001b[0mB\u001b[0m\u001b[1;33m)\u001b[0m\u001b[1;33m\u001b[0m\u001b[1;33m\u001b[0m\u001b[0m\n\u001b[0m",
      "\u001b[1;31mNameError\u001b[0m: name 'B' is not defined"
     ]
    }
   ],
   "source": [
    "check_diag_more(A)\n",
    "np.linalg.solve(A,B)"
   ]
  },
  {
   "cell_type": "code",
   "execution_count": 71,
   "metadata": {
    "ExecuteTime": {
     "end_time": "2019-03-14T08:57:40.777565Z",
     "start_time": "2019-03-14T08:57:40.768594Z"
    }
   },
   "outputs": [],
   "source": [
    "def mzeros(matrix, i):\n",
    "    for j in range(i+1, 4):\n",
    "        k = matrix[j, i]/matrix[i, i]\n",
    "        A_i = matrix[i, i:]\n",
    "        A_j = matrix[j, i:]\n",
    "        matrix[j, i:] = A_j - k*A_i\n",
    "    return matrix"
   ]
  },
  {
   "cell_type": "code",
   "execution_count": 4,
   "metadata": {},
   "outputs": [
    {
     "data": {
      "text/plain": [
       "array([[ 19.2795,  16.9024,  25.1255,  48.4764],\n",
       "       [ 16.9024,  38.1814,  27.5351,  46.4217],\n",
       "       [ 25.1255,  27.5351,  83.2365,  78.6611],\n",
       "       [ 48.4764,  46.4217,  78.6611, 130.3755]])"
      ]
     },
     "execution_count": 4,
     "metadata": {},
     "output_type": "execute_result"
    }
   ],
   "source": [
    "A.dot(A.T)"
   ]
  },
  {
   "cell_type": "code",
   "execution_count": 72,
   "metadata": {
    "ExecuteTime": {
     "end_time": "2019-03-14T08:57:41.393044Z",
     "start_time": "2019-03-14T08:57:41.357161Z"
    },
    "scrolled": false
   },
   "outputs": [
    {
     "name": "stdout",
     "output_type": "stream",
     "text": [
      "[[ 1.039e+01  2.450e+00  3.350e+00  2.280e+00  1.148e+01]\n",
      " [ 0.000e+00  7.890e-01  4.855e+00 -4.000e-03  4.984e+00]\n",
      " [ 0.000e+00  6.028e+00 -7.320e-01 -1.250e-01 -3.487e+00]\n",
      " [ 0.000e+00 -6.480e-01  5.200e-02  9.140e-01  0.000e+00]\n",
      " [ 0.000e+00  1.000e+00  2.000e+00  3.000e+00  4.000e+00]]\n",
      "[[10.39   2.45   3.35   2.28  11.48 ]\n",
      " [ 0.     6.028 -0.732 -0.125 -3.487]\n",
      " [ 0.    -0.     4.95   0.013  5.441]\n",
      " [ 0.     0.    -0.027  0.9   -0.375]\n",
      " [ 0.     1.     2.     3.     4.   ]]\n",
      "[[10.39   2.45   3.35   2.28  11.48 ]\n",
      " [ 0.     6.028 -0.732 -0.125 -3.487]\n",
      " [ 0.    -0.     4.95   0.013  5.441]\n",
      " [ 0.     0.     0.     0.901 -0.345]\n",
      " [ 0.     1.     2.     3.     4.   ]]\n",
      "[[10.39   2.45   3.35   2.28  11.48 ]\n",
      " [ 0.     6.028 -0.732 -0.125 -3.487]\n",
      " [ 0.    -0.     4.95   0.013  5.441]\n",
      " [ 0.     0.     0.     0.901 -0.345]\n",
      " [ 0.     1.     2.     3.     4.   ]]\n",
      "[[10.39   2.45   3.35   2.28  11.48 ]\n",
      " [ 0.     6.028 -0.732 -0.125 -3.487]\n",
      " [ 0.    -0.     4.95   0.013  5.441]\n",
      " [ 0.     0.     0.     0.901 -0.345]\n",
      " [ 0.     1.     2.     3.     4.   ]]\n"
     ]
    }
   ],
   "source": [
    "for i in range(4):\n",
    "    m, s = np.unravel_index(matrix[i:4, i:4].argmax(), matrix[i:4, i:4].shape) #get max(ind)\n",
    "    m, s = m+i, s+i  #real ind(whole matr),not submatr\n",
    "    matrix[:, [i, s]] = matrix[:, [s, i]] #swap max and i-th elem\n",
    "    matrix[[i, m], :] = matrix[[m, i], :] #swap rows(max and i-th)\n",
    "    matrix = mzeros(matrix, i)#zeros under (i,i) elem\n",
    "    print(np.round(matrix,3))\n",
    "print(np.round(matrix,3))"
   ]
  },
  {
   "cell_type": "code",
   "execution_count": 73,
   "metadata": {
    "ExecuteTime": {
     "end_time": "2019-03-14T08:57:43.362010Z",
     "start_time": "2019-03-14T08:57:43.330085Z"
    },
    "scrolled": true
   },
   "outputs": [
    {
     "name": "stdout",
     "output_type": "stream",
     "text": [
      "[[ 1.03900000e+01  2.45000000e+00  3.35000000e+00  2.28000000e+00\n",
      "   1.14800000e+01]\n",
      " [ 0.00000000e+00  6.02788258e+00 -7.32078922e-01 -1.25235804e-01\n",
      "  -3.48706449e+00]\n",
      " [ 0.00000000e+00 -1.11022302e-16  4.95041956e+00  1.26575251e-02\n",
      "   5.44063920e+00]\n",
      " [ 0.00000000e+00  0.00000000e+00  0.00000000e+00  9.00524911e-01\n",
      "  -3.44918767e-01]]\n",
      "[[ 1.03900000e+01  2.45000000e+00  3.35000000e+00  2.28000000e+00\n",
      "   1.14800000e+01]\n",
      " [ 0.00000000e+00  6.02788258e+00 -7.32078922e-01 -1.25235804e-01\n",
      "  -3.48706449e+00]\n",
      " [ 0.00000000e+00 -1.11022302e-16  4.95041956e+00  1.26575251e-02\n",
      "   5.44063920e+00]\n",
      " [ 0.00000000e+00  0.00000000e+00  0.00000000e+00  9.00524911e-01\n",
      "  -3.44918767e-01]]\n"
     ]
    }
   ],
   "source": [
    "diagonalized_matrix = matrix[:4,:5]\n",
    "permuted_index_columns = list(matrix[4,:].astype(np.int32))\n",
    "print(diagonalized_matrix)\n",
    "res = []\n",
    "for i in reversed(range(4)):\n",
    "    x = diagonalized_matrix[i,4]/diagonalized_matrix[i,i]\n",
    "    coef = diagonalized_matrix[i,(i+1):4]\n",
    "    for j,solution in enumerate(reversed(res)):\n",
    "        x-=(solution*coef[j])/diagonalized_matrix[i,i]\n",
    "    res.append(x)\n",
    "res = res[::-1]\n",
    "res\n",
    "print(diagonalized_matrix)"
   ]
  },
  {
   "cell_type": "code",
   "execution_count": 84,
   "metadata": {
    "ExecuteTime": {
     "end_time": "2019-03-14T06:03:07.601686Z",
     "start_time": "2019-03-14T06:03:07.595533Z"
    }
   },
   "outputs": [
    {
     "data": {
      "text/plain": [
       "array([[ 0.94107373],\n",
       "       [-0.45285249],\n",
       "       [ 1.1000052 ],\n",
       "       [-0.38301968]])"
      ]
     },
     "execution_count": 84,
     "metadata": {},
     "output_type": "execute_result"
    }
   ],
   "source": [
    "g =np.linalg.solve(A,b.T)\n",
    "g"
   ]
  },
  {
   "cell_type": "code",
   "execution_count": 75,
   "metadata": {
    "ExecuteTime": {
     "end_time": "2019-03-14T09:00:47.099056Z",
     "start_time": "2019-03-14T09:00:47.087084Z"
    }
   },
   "outputs": [
    {
     "name": "stdout",
     "output_type": "stream",
     "text": [
      "[[ 4.21  7.47  2.38 11.48]]\n",
      "[[ 4.21  7.47  2.38 11.48]]\n"
     ]
    }
   ],
   "source": [
    "solution_matrix = np.reshape(np.array(res),(1,4))\n",
    "print(solution_matrix.dot(A.T))\n",
    "print(b)"
   ]
  },
  {
   "cell_type": "code",
   "execution_count": 76,
   "metadata": {
    "ExecuteTime": {
     "end_time": "2019-03-14T09:05:21.137729Z",
     "start_time": "2019-03-14T09:05:21.132559Z"
    }
   },
   "outputs": [
    {
     "data": {
      "text/plain": [
       "[0.9410737292017344,\n",
       " -0.45285249051070486,\n",
       " 1.1000052046780466,\n",
       " -0.38301968435361805]"
      ]
     },
     "execution_count": 76,
     "metadata": {},
     "output_type": "execute_result"
    }
   ],
   "source": [
    "res"
   ]
  },
  {
   "cell_type": "code",
   "execution_count": 77,
   "metadata": {},
   "outputs": [
    {
     "data": {
      "text/plain": [
       "array([[10.39 ,  2.45 ,  3.35 ,  2.28 , 11.48 ],\n",
       "       [ 0.   ,  6.028, -0.732, -0.125, -3.487],\n",
       "       [ 0.   , -0.   ,  4.95 ,  0.013,  5.441],\n",
       "       [ 0.   ,  0.   ,  0.   ,  0.901, -0.345],\n",
       "       [ 0.   ,  1.   ,  2.   ,  3.   ,  4.   ]])"
      ]
     },
     "execution_count": 77,
     "metadata": {},
     "output_type": "execute_result"
    }
   ],
   "source": [
    "#matrix=np.delete(matrix, matrix.shape[0], 0)\n",
    "np.round(matrix,3)"
   ]
  },
  {
   "cell_type": "code",
   "execution_count": 78,
   "metadata": {},
   "outputs": [],
   "source": [
    "k = np.delete(matrix,matrix.shape[0]-1,0 )"
   ]
  },
  {
   "cell_type": "code",
   "execution_count": 79,
   "metadata": {},
   "outputs": [
    {
     "data": {
      "text/plain": [
       "array([[10.39 ,  2.45 ,  3.35 ,  2.28 , 11.48 ],\n",
       "       [ 0.   ,  6.028, -0.732, -0.125, -3.487],\n",
       "       [ 0.   , -0.   ,  4.95 ,  0.013,  5.441],\n",
       "       [ 0.   ,  0.   ,  0.   ,  0.901, -0.345]])"
      ]
     },
     "execution_count": 79,
     "metadata": {},
     "output_type": "execute_result"
    }
   ],
   "source": [
    "np.round(k,3)"
   ]
  },
  {
   "cell_type": "code",
   "execution_count": 80,
   "metadata": {},
   "outputs": [],
   "source": [
    "h = k[:,k.shape[1] -1]"
   ]
  },
  {
   "cell_type": "code",
   "execution_count": 81,
   "metadata": {},
   "outputs": [],
   "source": [
    "k = np.delete(k, k.shape[1]-1, 1)"
   ]
  },
  {
   "cell_type": "code",
   "execution_count": 82,
   "metadata": {},
   "outputs": [
    {
     "data": {
      "text/plain": [
       "array([[10.39 ,  2.45 ,  3.35 ,  2.28 ],\n",
       "       [ 0.   ,  6.028, -0.732, -0.125],\n",
       "       [ 0.   , -0.   ,  4.95 ,  0.013],\n",
       "       [ 0.   ,  0.   ,  0.   ,  0.901]])"
      ]
     },
     "execution_count": 82,
     "metadata": {},
     "output_type": "execute_result"
    }
   ],
   "source": [
    "np.round(k,3)"
   ]
  }
 ],
 "metadata": {
  "kernelspec": {
   "display_name": "Python 3",
   "language": "python",
   "name": "python3"
  },
  "language_info": {
   "codemirror_mode": {
    "name": "ipython",
    "version": 3
   },
   "file_extension": ".py",
   "mimetype": "text/x-python",
   "name": "python",
   "nbconvert_exporter": "python",
   "pygments_lexer": "ipython3",
   "version": "3.7.1"
  }
 },
 "nbformat": 4,
 "nbformat_minor": 2
}
