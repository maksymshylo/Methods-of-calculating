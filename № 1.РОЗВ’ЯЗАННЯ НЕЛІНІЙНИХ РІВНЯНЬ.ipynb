{
 "cells": [
  {
   "cell_type": "markdown",
   "metadata": {},
   "source": [
    "## Шило Максим. ФІ-61. Варіант 10"
   ]
  },
  {
   "cell_type": "markdown",
   "metadata": {},
   "source": [
    "## `p(x) = - 2x^4 + x^3 + 5x^2 - 2x + 7`"
   ]
  },
  {
   "cell_type": "markdown",
   "metadata": {},
   "source": [
    "### 1) Теорема про кільце\n",
    "\n",
    " a_4 = 2\n",
    " \n",
    " a_3 = -1\n",
    " \n",
    " a_2 = -5\n",
    " \n",
    " a_1 = 2\n",
    " \n",
    " a_0 = -7\n",
    "\n",
    " \n",
    "A = max {|a_3|, |a_2|, |a_1|, |a_0|} = max {1,5,2,7} = 7\n",
    "\n",
    "B = max {|a_4|, |a_3|, |a_2|, |a_1|} = max {2,1,5,2} = 5\n",
    "\n",
    "=>\n",
    "\n",
    "R = ( |a_4| + A ) / |a_4| = (2 + 7)/2 = 4.5\n",
    "   \n",
    "r = |a_0| / ( |a_0| + B ) = 7/(7 + 5) = 7/12 ~ 0.58\n",
    "   \n",
    "=> r < |x*| < R\n",
    "\n",
    "=> `0.58 < |x*| < 4.5`\n",
    "\n",
    "\n",
    "\n",
    "-------------------"
   ]
  },
  {
   "cell_type": "markdown",
   "metadata": {},
   "source": [
    "### 2) Теорема  Гюа про наявність комплексних коренів\n",
    "\n",
    "k = 3 =>   1 < -10\n",
    "\n",
    "k = 2 =>  25 < -2\n",
    "\n",
    "k = 1 =>   4 < 35\n",
    "\n",
    "=> існує 1 пара комплекних\n",
    "\n",
    "\n",
    "\n",
    "--------------------------------"
   ]
  },
  {
   "cell_type": "markdown",
   "metadata": {},
   "source": [
    "## Спосіб Лагранжа "
   ]
  },
  {
   "cell_type": "markdown",
   "metadata": {},
   "source": [
    "p(x) = F(x) + T(x)\n",
    "\n",
    "F(x) - всі ПОСПІЛЬ додатні + всі від'ємні \n",
    "\n",
    "\n",
    "T(x) - всі інші\n",
    "\n",
    "\n",
    "Якщо існує alpha >0 F(alpha) >0 => x+ < alpha\n",
    "\n",
    "F(x) = 2x^4  - x^3 - 5x^2 - 7 \n",
    "\n",
    "T(x) = 2x"
   ]
  },
  {
   "cell_type": "code",
   "execution_count": 22,
   "metadata": {},
   "outputs": [
    {
     "name": "stdout",
     "output_type": "stream",
     "text": [
      "119\n"
     ]
    }
   ],
   "source": [
    "x = 3\n",
    "print(2*pow(x,4) -x*pow(x,3) + 5*pow(x,2) - 7)"
   ]
  },
  {
   "cell_type": "markdown",
   "metadata": {},
   "source": [
    "x = 3 \n",
    "F(x) = 119 > 0 = > x+ < 3\n"
   ]
  },
  {
   "cell_type": "markdown",
   "metadata": {},
   "source": [
    "##  Дійсні корені\n",
    "\n",
    "## Верхня межа додатніх коренів \n",
    "\n",
    "\n",
    "B = max { |a_i| }, a_i < 0 = 7\n",
    "\n",
    "m = max { i }, a_i < 0 = 3\n",
    "\n",
    "n = 4\n",
    "\n",
    "x+ < 1 + sqrt( B / a_4)^(n - m) = 1 + 7/2 = 4.5\n",
    "\n",
    "\n",
    "## Нижня межа додатніх коренів \n",
    "\n",
    "x = 1/y =>  7y^4 - 2y^3 + 5y^2 + y - 2 = 0\n",
    "\n",
    "B = 2\n",
    "\n",
    "m = 3 \n",
    "\n",
    "n = 4\n",
    "\n",
    "x+ > 1/ (1 + sqrt( 2/7 ) ) ~ 0.81\n",
    "\n",
    "## Верхня межа від'ємних коренів \n",
    "\n",
    "x = - 1/y  =>  7y^4 + 2y^3 + 5y^2 - y - 2 = 0\n",
    "\n",
    "B = 2\n",
    "\n",
    "m = 1\n",
    "\n",
    "n = 4\n",
    "\n",
    "x- < -1/ ( 1 + sqrt( 2/7 )^3 ) ~ -0.602\n",
    "\n",
    "## Нижня межа від'ємних коренів \n",
    "\n",
    "x = - y  =>  2y^4 + y^3 - 5y^2 - 2y - 7 = 0\n",
    "\n",
    "B = 5\n",
    "\n",
    "m = 2\n",
    "\n",
    "n = 4\n",
    "\n",
    "x- > -( 1 + sqrt( 5/2 )^2 ) ~ -2.58 \n",
    "\n",
    "\n",
    "Звідси маємо \n",
    "\n",
    " `0.81 < | x+ | < 4.5`\n",
    "\n",
    "`-2.58  < | x- | < -0.602`"
   ]
  },
  {
   "attachments": {
    "image.png": {
     "image/png": "[encoded data removed]"
    }
   },
   "cell_type": "markdown",
   "metadata": {},
   "source": [
    "## Метод Штурма\n",
    "![image.png](attachment:image.png)"
   ]
  },
  {
   "cell_type": "markdown",
   "metadata": {},
   "source": [
    "|   поліноми    | -2.58           | -0.602        | 0.81         | 4.5           |\n",
    "|:------------- |:---------------:|:-------------:|:------------:| -------------:|\n",
    "| 0             | +               | -             |-             |+              |\n",
    "| 1             | -               | +             |-             |+              |\n",
    "| 2             | +               | +             |+             |+              |\n",
    "| 3             | -               | -             |+             |+              |\n",
    "| 4             | -               | -             |-             |-              |\n",
    "| КЗЗ           | 3               | 2             |2             |1              |\n",
    "\n",
    "\n",
    "3 -2 = 1 корінь\n",
    "\n",
    "2 -1 = 1 корінь\n",
    "\n",
    "`Маємо по одному кореню з обох боків`"
   ]
  },
  {
   "cell_type": "code",
   "execution_count": 8,
   "metadata": {},
   "outputs": [],
   "source": [
    "coef = [-2,1,5,-2,7]\n",
    "a = 0.81\n",
    "b = 4.5\n",
    "e = 0.0001"
   ]
  },
  {
   "cell_type": "code",
   "execution_count": 9,
   "metadata": {},
   "outputs": [],
   "source": [
    "def f(t):\n",
    "    f = 0\n",
    "    for i in range(0,len(coef)):\n",
    "        f = f + coef[i]*pow(t,len(coef) -i -1)\n",
    "    return f"
   ]
  },
  {
   "cell_type": "markdown",
   "metadata": {},
   "source": [
    "# Метод бісекції"
   ]
  },
  {
   "cell_type": "code",
   "execution_count": 10,
   "metadata": {},
   "outputs": [],
   "source": [
    "def var_info():\n",
    "    print(\"Значення a = \",a)\n",
    "    print(\"Значення b = \",b)\n",
    "    print(\"Значення e = \",e)"
   ]
  },
  {
   "cell_type": "code",
   "execution_count": 11,
   "metadata": {},
   "outputs": [],
   "source": [
    "def bisection_method(a,b):\n",
    "    if f(a)*f(b) <= 0:\n",
    "        print(\"Умова збіжності виконується\")\n",
    "        k = 0\n",
    "        while True:\n",
    "            x = (a+b)/2\n",
    "            k = k +1\n",
    "            print(\"Ітерація \",k, \"      a = \",a,\"          b = \",b,\"              x = \",x)\n",
    "            print(\"  \")\n",
    "            if abs(f(x)) < e:break\n",
    "            if f(a)*f(x) <0:\n",
    "                a=a\n",
    "                b=x\n",
    "            else:\n",
    "                a=x\n",
    "                b=b\n",
    "            \n",
    "        print(\"Корінь x = \",x)\n",
    "        print(\"Кількість ітерацій\", k)\n",
    "    else:\n",
    "        print(\"Умова збіжності НЕ виконується\")\n",
    "        "
   ]
  },
  {
   "cell_type": "code",
   "execution_count": 12,
   "metadata": {},
   "outputs": [
    {
     "name": "stdout",
     "output_type": "stream",
     "text": [
      "Значення a =  0.81\n",
      "Значення b =  4.5\n",
      "Значення e =  0.0001\n",
      "Умова збіжності виконується\n",
      "Ітерація  1       a =  0.81           b =  4.5               x =  2.6550000000000002\n",
      "  \n",
      "Ітерація  2       a =  0.81           b =  2.6550000000000002               x =  1.7325000000000002\n",
      "  \n",
      "Ітерація  3       a =  1.7325000000000002           b =  2.6550000000000002               x =  2.19375\n",
      "  \n",
      "Ітерація  4       a =  1.7325000000000002           b =  2.19375               x =  1.9631250000000002\n",
      "  \n",
      "Ітерація  5       a =  1.9631250000000002           b =  2.19375               x =  2.0784375\n",
      "  \n",
      "Ітерація  6       a =  1.9631250000000002           b =  2.0784375               x =  2.02078125\n",
      "  \n",
      "Ітерація  7       a =  1.9631250000000002           b =  2.02078125               x =  1.9919531250000002\n",
      "  \n",
      "Ітерація  8       a =  1.9631250000000002           b =  1.9919531250000002               x =  1.9775390625000002\n",
      "  \n",
      "Ітерація  9       a =  1.9631250000000002           b =  1.9775390625000002               x =  1.9703320312500003\n",
      "  \n",
      "Ітерація  10       a =  1.9631250000000002           b =  1.9703320312500003               x =  1.9667285156250003\n",
      "  \n",
      "Ітерація  11       a =  1.9667285156250003           b =  1.9703320312500003               x =  1.9685302734375003\n",
      "  \n",
      "Ітерація  12       a =  1.9685302734375003           b =  1.9703320312500003               x =  1.9694311523437502\n",
      "  \n",
      "Ітерація  13       a =  1.9694311523437502           b =  1.9703320312500003               x =  1.9698815917968753\n",
      "  \n",
      "Ітерація  14       a =  1.9694311523437502           b =  1.9698815917968753               x =  1.9696563720703129\n",
      "  \n",
      "Ітерація  15       a =  1.9694311523437502           b =  1.9696563720703129               x =  1.9695437622070315\n",
      "  \n",
      "Ітерація  16       a =  1.9695437622070315           b =  1.9696563720703129               x =  1.9696000671386722\n",
      "  \n",
      "Ітерація  17       a =  1.9695437622070315           b =  1.9696000671386722               x =  1.9695719146728519\n",
      "  \n",
      "Ітерація  18       a =  1.9695719146728519           b =  1.9696000671386722               x =  1.969585990905762\n",
      "  \n",
      "Ітерація  19       a =  1.969585990905762           b =  1.9696000671386722               x =  1.9695930290222172\n",
      "  \n",
      "Корінь x =  1.9695930290222172\n",
      "Кількість ітерацій 19\n"
     ]
    }
   ],
   "source": [
    "var_info()\n",
    "bisection_method(a,b)"
   ]
  },
  {
   "cell_type": "markdown",
   "metadata": {},
   "source": [
    "# Метод Ньютона"
   ]
  },
  {
   "cell_type": "code",
   "execution_count": 6,
   "metadata": {},
   "outputs": [],
   "source": [
    "from scipy.misc import derivative\n",
    "# int(derivative(f, a, n=2, dx=1e-1))\n"
   ]
  },
  {
   "cell_type": "code",
   "execution_count": 31,
   "metadata": {},
   "outputs": [],
   "source": [
    "coef = [-2, 1, 5, -2, 7] \n",
    "a = 0.81\n",
    "b = 4.5\n",
    "e = 0.0001"
   ]
  },
  {
   "cell_type": "code",
   "execution_count": 32,
   "metadata": {},
   "outputs": [],
   "source": [
    "def f1(x):\n",
    "    return -8*pow(x,3) +3*pow(x,2) + 10*x -2\n",
    "def f2(x):\n",
    "    return -24*pow(x,2) +6*x +10"
   ]
  },
  {
   "cell_type": "code",
   "execution_count": 33,
   "metadata": {},
   "outputs": [],
   "source": [
    "def Newton_method(a,b):\n",
    "    if f(a)*f2(a) >0:\n",
    "        print(\"Умова збіжності виконується для a = \",a)\n",
    "        x = a\n",
    "    elif f(b)*f2(b) >0:\n",
    "        print(\"Умова збіжності виконується для b = \",b)\n",
    "        x = b\n",
    "    else:\n",
    "        print(\"Умова збіжності НЕ виконується\")\n",
    "        x = -pow(10,10)\n",
    "    if x > -pow(10,10):\n",
    "        k = 0\n",
    "        while abs(f(x)) > e:\n",
    "            print()\n",
    "            x = x - f(x)/f1(x)\n",
    "            k = k + 1\n",
    "            print(\"Ітерація \",k, \"      a = \",a,\"          b = \",b,\"              x = \",x)\n",
    "            print(\"  \")              \n",
    "        print(\"Корінь x = \",x)\n",
    "        print(\"Кількість ітерацій \", k)"
   ]
  },
  {
   "cell_type": "code",
   "execution_count": 35,
   "metadata": {},
   "outputs": [
    {
     "name": "stdout",
     "output_type": "stream",
     "text": [
      "Значення a =  0.81\n",
      "Значення b =  4.5\n",
      "Значення e =  0.0001\n",
      "Умова збіжності виконується для b =  4.5\n",
      "\n",
      "Ітерація  1       a =  0.81           b =  4.5               x =  3.492802878848461\n",
      "  \n",
      "\n",
      "Ітерація  2       a =  0.81           b =  4.5               x =  2.777740884165067\n",
      "  \n",
      "\n",
      "Ітерація  3       a =  0.81           b =  4.5               x =  2.307575723455015\n",
      "  \n",
      "\n",
      "Ітерація  4       a =  0.81           b =  4.5               x =  2.0559493894861074\n",
      "  \n",
      "\n",
      "Ітерація  5       a =  0.81           b =  4.5               x =  1.9770426656841409\n",
      "  \n",
      "\n",
      "Ітерація  6       a =  0.81           b =  4.5               x =  1.9696560672788173\n",
      "  \n",
      "\n",
      "Ітерація  7       a =  0.81           b =  4.5               x =  1.96959452445433\n",
      "  \n",
      "Корінь x =  1.96959452445433\n",
      "Кількість ітерацій  7\n"
     ]
    }
   ],
   "source": [
    "var_info()\n",
    "Newton_method(a,b)"
   ]
  },
  {
   "cell_type": "markdown",
   "metadata": {},
   "source": [
    "# Метод Хорд"
   ]
  },
  {
   "cell_type": "code",
   "execution_count": 16,
   "metadata": {},
   "outputs": [],
   "source": [
    "def method_of_chords(a,b):\n",
    "    k=0\n",
    "    while abs(a- (a - (f(a)*(a-b))/(f(a)-f(b)))   ) > e:\n",
    "        k = k + 1\n",
    "        a = a - (f(a)*(a-b))/(f(a)-f(b))\n",
    "        b = b\n",
    "        print(\"Ітерація \",k, \"          x = \",a)\n",
    "    \n",
    "    print(\"Корінь x = \", a)\n",
    "    print(\"Кількість ітерацій \", k)"
   ]
  },
  {
   "cell_type": "code",
   "execution_count": 17,
   "metadata": {},
   "outputs": [
    {
     "name": "stdout",
     "output_type": "stream",
     "text": [
      "Значення a =  0.81\n",
      "Значення b =  4.5\n",
      "Значення e =  0.0001\n"
     ]
    }
   ],
   "source": [
    "var_info()"
   ]
  },
  {
   "cell_type": "code",
   "execution_count": 18,
   "metadata": {},
   "outputs": [
    {
     "name": "stdout",
     "output_type": "stream",
     "text": [
      "Ітерація  1           x =  0.8581779177928653\n",
      "Ітерація  2           x =  0.9067530162128861\n",
      "Ітерація  3           x =  0.9556673580304755\n",
      "Ітерація  4           x =  1.004839604017053\n",
      "Ітерація  5           x =  1.0541642966771059\n",
      "Ітерація  6           x =  1.103511822188022\n",
      "Ітерація  7           x =  1.1527292377576934\n",
      "Ітерація  8           x =  1.201642124894314\n",
      "Ітерація  9           x =  1.250057576661628\n",
      "Ітерація  10           x =  1.2977683482381954\n",
      "Ітерація  11           x =  1.3445580990483\n",
      "Ітерація  12           x =  1.3902075408286343\n",
      "Ітерація  13           x =  1.4345011936370242\n",
      "Ітерація  14           x =  1.4772343584069785\n",
      "Ітерація  15           x =  1.518219857337418\n",
      "Ітерація  16           x =  1.5572940850863888\n",
      "Ітерація  17           x =  1.5943219595831613\n",
      "Ітерація  18           x =  1.6292004568245746\n",
      "Ітерація  19           x =  1.661860545656389\n",
      "Ітерація  20           x =  1.692267486316582\n",
      "Ітерація  21           x =  1.7204195985769215\n",
      "Ітерація  22           x =  1.7463457225308696\n",
      "Ітерація  23           x =  1.7701016745962537\n",
      "Ітерація  24           x =  1.7917660382095866\n",
      "Ітерація  25           x =  1.8114356255702637\n",
      "Ітерація  26           x =  1.829220911769261\n",
      "Ітерація  27           x =  1.8452416866840475\n",
      "Ітерація  28           x =  1.8596231043887785\n",
      "Ітерація  29           x =  1.8724922441247995\n",
      "Ітерація  30           x =  1.8839752380344954\n",
      "Ітерація  31           x =  1.894194972917114\n",
      "Ітерація  32           x =  1.903269337707617\n",
      "Ітерація  33           x =  1.9113099648010072\n",
      "Ітерація  34           x =  1.9184214001534863\n",
      "Ітерація  35           x =  1.9247006321388462\n",
      "Ітерація  36           x =  1.9302369101826213\n",
      "Ітерація  37           x =  1.9351117892012784\n",
      "Ітерація  38           x =  1.9393993431579615\n",
      "Ітерація  39           x =  1.9431664993288589\n",
      "Ітерація  40           x =  1.9464734532513803\n",
      "Ітерація  41           x =  1.9493741322132636\n",
      "Ітерація  42           x =  1.9519166822071328\n",
      "Ітерація  43           x =  1.9541439593673733\n",
      "Ітерація  44           x =  1.95609401199935\n",
      "Ітерація  45           x =  1.957800543456906\n",
      "Ітерація  46           x =  1.9592933494181897\n",
      "Ітерація  47           x =  1.9605987256669113\n",
      "Ітерація  48           x =  1.9617398444243372\n",
      "Ітерація  49           x =  1.9627370987086736\n",
      "Ітерація  50           x =  1.96360841522354\n",
      "Ітерація  51           x =  1.9643695369829441\n",
      "Ітерація  52           x =  1.9650342773395801\n",
      "Ітерація  53           x =  1.9656147473563328\n",
      "Ітерація  54           x =  1.9661215585957952\n",
      "Ітерація  55           x =  1.9665640034375795\n",
      "Ітерація  56           x =  1.9669502149979012\n",
      "Ітерація  57           x =  1.9672873086431335\n",
      "Ітерація  58           x =  1.967581506975942\n",
      "Ітерація  59           x =  1.9678382500419862\n",
      "Ітерація  60           x =  1.9680622923663027\n",
      "Ітерація  61           x =  1.968257788287973\n",
      "Ітерація  62           x =  1.9684283669241187\n",
      "Ітерація  63           x =  1.9685771979626645\n",
      "Ітерація  64           x =  1.9687070493595809\n",
      "Ітерація  65           x =  1.9688203379014961\n",
      "Корінь x =  1.9688203379014961\n",
      "Кількість ітерацій  65\n"
     ]
    }
   ],
   "source": [
    "method_of_chords(a,b)"
   ]
  },
  {
   "cell_type": "markdown",
   "metadata": {},
   "source": [
    "## Від'ємний корінь"
   ]
  },
  {
   "cell_type": "code",
   "execution_count": 19,
   "metadata": {},
   "outputs": [],
   "source": [
    "a = -2.58\n",
    "b = -0.602"
   ]
  },
  {
   "cell_type": "code",
   "execution_count": 41,
   "metadata": {},
   "outputs": [
    {
     "name": "stdout",
     "output_type": "stream",
     "text": [
      "Умова збіжності виконується\n",
      "Ітерація  1       a =  -2.58           b =  -0.602               x =  -1.591\n",
      "  \n",
      "Ітерація  2       a =  -2.58           b =  -1.591               x =  -2.0855\n",
      "  \n",
      "Ітерація  3       a =  -2.0855           b =  -1.591               x =  -1.83825\n",
      "  \n",
      "Ітерація  4       a =  -1.83825           b =  -1.591               x =  -1.7146249999999998\n",
      "  \n",
      "Ітерація  5       a =  -1.83825           b =  -1.7146249999999998               x =  -1.7764375\n",
      "  \n",
      "Ітерація  6       a =  -1.83825           b =  -1.7764375               x =  -1.8073437499999998\n",
      "  \n",
      "Ітерація  7       a =  -1.8073437499999998           b =  -1.7764375               x =  -1.7918906249999997\n",
      "  \n",
      "Ітерація  8       a =  -1.8073437499999998           b =  -1.7918906249999997               x =  -1.7996171874999998\n",
      "  \n",
      "Ітерація  9       a =  -1.7996171874999998           b =  -1.7918906249999997               x =  -1.7957539062499999\n",
      "  \n",
      "Ітерація  10       a =  -1.7996171874999998           b =  -1.7957539062499999               x =  -1.797685546875\n",
      "  \n",
      "Ітерація  11       a =  -1.7996171874999998           b =  -1.797685546875               x =  -1.7986513671875\n",
      "  \n",
      "Ітерація  12       a =  -1.7996171874999998           b =  -1.7986513671875               x =  -1.7991342773437498\n",
      "  \n",
      "Ітерація  13       a =  -1.7996171874999998           b =  -1.7991342773437498               x =  -1.7993757324218747\n",
      "  \n",
      "Ітерація  14       a =  -1.7993757324218747           b =  -1.7991342773437498               x =  -1.7992550048828122\n",
      "  \n",
      "Ітерація  15       a =  -1.7992550048828122           b =  -1.7991342773437498               x =  -1.799194641113281\n",
      "  \n",
      "Ітерація  16       a =  -1.7992550048828122           b =  -1.799194641113281               x =  -1.7992248229980468\n",
      "  \n",
      "Ітерація  17       a =  -1.7992550048828122           b =  -1.7992248229980468               x =  -1.7992399139404296\n",
      "  \n",
      "Ітерація  18       a =  -1.7992550048828122           b =  -1.7992399139404296               x =  -1.799247459411621\n",
      "  \n",
      "Ітерація  19       a =  -1.7992550048828122           b =  -1.799247459411621               x =  -1.7992512321472165\n",
      "  \n",
      "Корінь x =  -1.7992512321472165\n",
      "Кількість ітерацій 19\n"
     ]
    }
   ],
   "source": [
    "bisection_method(a,b)"
   ]
  },
  {
   "cell_type": "code",
   "execution_count": 42,
   "metadata": {},
   "outputs": [
    {
     "name": "stdout",
     "output_type": "stream",
     "text": [
      "Умова збіжності виконується для a =  -2.58\n",
      "\n",
      "Ітерація  1       a =  -2.58           b =  -0.602               x =  -2.1142073678351547\n",
      "  \n",
      "\n",
      "Ітерація  2       a =  -2.58           b =  -0.602               x =  -1.8738533766855767\n",
      "  \n",
      "\n",
      "Ітерація  3       a =  -2.58           b =  -0.602               x =  -1.8047046040976893\n",
      "  \n",
      "\n",
      "Ітерація  4       a =  -2.58           b =  -0.602               x =  -1.7992835423780995\n",
      "  \n",
      "\n",
      "Ітерація  5       a =  -2.58           b =  -0.602               x =  -1.7992516507732157\n",
      "  \n",
      "Корінь x =  -1.7992516507732157\n",
      "Кількість ітерацій  5\n"
     ]
    }
   ],
   "source": [
    "Newton_method(a,b)"
   ]
  },
  {
   "cell_type": "code",
   "execution_count": 45,
   "metadata": {},
   "outputs": [
    {
     "name": "stdout",
     "output_type": "stream",
     "text": [
      "Ітерація  1           x =  -0.8718918374388658\n",
      "Ітерація  2           x =  -1.1296752528691678\n",
      "Ітерація  3           x =  -1.3522715173237465\n",
      "Ітерація  4           x =  -1.5220907761234173\n",
      "Ітерація  5           x =  -1.637185860033013\n",
      "Ітерація  6           x =  -1.7082463333225026\n",
      "Ітерація  7           x =  -1.7494196449555148\n",
      "Ітерація  8           x =  -1.7723612400256916\n",
      "Ітерація  9           x =  -1.7848589241024053\n",
      "Ітерація  10           x =  -1.7915823188639506\n",
      "Ітерація  11           x =  -1.7951747243669876\n",
      "Ітерація  12           x =  -1.7970871737691896\n",
      "Ітерація  13           x =  -1.7981032921191753\n",
      "Ітерація  14           x =  -1.7986426116134793\n",
      "Ітерація  15           x =  -1.7989287048226656\n",
      "Ітерація  16           x =  -1.799080424320985\n",
      "Корінь x =  -1.799080424320985\n",
      "Кількість ітерацій  16\n"
     ]
    }
   ],
   "source": [
    "b = -2.58\n",
    "a = -0.602\n",
    "method_of_chords(a,b)"
   ]
  },
  {
   "cell_type": "code",
   "execution_count": null,
   "metadata": {},
   "outputs": [],
   "source": []
  },
  {
   "cell_type": "code",
   "execution_count": null,
   "metadata": {},
   "outputs": [],
   "source": []
  }
 ],
 "metadata": {
  "kernelspec": {
   "display_name": "Python 3",
   "language": "python",
   "name": "python3"
  },
  "language_info": {
   "codemirror_mode": {
    "name": "ipython",
    "version": 3
   },
   "file_extension": ".py",
   "mimetype": "text/x-python",
   "name": "python",
   "nbconvert_exporter": "python",
   "pygments_lexer": "ipython3",
   "version": "3.7.1"
  }
 },
 "nbformat": 4,
 "nbformat_minor": 2
}
