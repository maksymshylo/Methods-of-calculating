{
 "cells": [
  {
   "cell_type": "code",
   "execution_count": 120,
   "metadata": {},
   "outputs": [],
   "source": [
    "import numpy as np"
   ]
  },
  {
   "cell_type": "code",
   "execution_count": 154,
   "metadata": {},
   "outputs": [],
   "source": [
    "A = np.array([[6.59,   1.28,   0.79,  1.195, -0.21  ], \n",
    "              [0.92,   3.83,    1.3,  -1.63,  1.02  ],\n",
    "              [1.15,  -2.46,   5.77,    2.1,  1.483 ],\n",
    "              [1.285,  0.16,    2.1,   5.77,  -18   ],\n",
    "              [0.69,  -1.68, -1.217,      9,   -6   ],\n",
    "              [ 0  ,     1 ,    2   ,     3,   4    ]  ], dtype = float)\n",
    "B = np.array([2.1, 0.36, 3.89, 11.04, -0.27])"
   ]
  },
  {
   "cell_type": "code",
   "execution_count": 140,
   "metadata": {},
   "outputs": [],
   "source": [
    "def ind(matr,el):                                      # функція ind показує розміщення елемента 'el' в м-ці 'matr'\n",
    "    a = np.where(matr == el)\n",
    "    r = [a[0][0].tolist(), a[1][0].tolist()]\n",
    "    return r\n",
    "global s\n",
    "s = 100000"
   ]
  },
  {
   "cell_type": "code",
   "execution_count": 141,
   "metadata": {},
   "outputs": [],
   "source": [
    "def gauss_method(a,b):\n",
    "    n = a.shape[1]\n",
    "    global rest\n",
    "    rest = [0]*n\n",
    "    global w\n",
    "    w = []\n",
    "    while n >0:\n",
    "        a_main = abs(a).max()                            # знаходимо найбільший елемент м-ці А\n",
    "        if a_main in a:\n",
    "            a_main = a_main\n",
    "        else:\n",
    "            a_main = -a_main\n",
    "        p = ind(a,a_main)[0]                             # головний рядок\n",
    "        q = ind(a,a_main)[1]                             # головний стовпець\n",
    "        \n",
    "        m = []                                           # множники m_i\n",
    "        for i in range(0, len(a[:,q])-1):\n",
    "            if i!=p:\n",
    "                m.append(a[:, q][i]/a[p,q])\n",
    "            else:\n",
    "                m.append(0)\n",
    "                \n",
    "        print(np.round(a,2),np.round(b,2) )            # показ з округленням 2ох цифр\n",
    "        for i in range(0,a.shape[0]-1 ):\n",
    "            for j in range(0, a.shape[1]):\n",
    "                a[i][j] = a[i][j] - m[i]*a[p][j]       #головний алгоритм\n",
    "                b[i] = b[i] - m[i]*a[p][j]\n",
    "        \n",
    "        \n",
    "        temp = np.copy(a[:,0])\n",
    "        a[:,0] =  a[:,q]\n",
    "        a[:,q] = temp\n",
    "        \n",
    "        remp = np.copy(a[0,:])\n",
    "        a[0,:] = a[p,:]\n",
    "        a[p,:] = remp\n",
    "        \n",
    "        temp1 = np.copy(b[0])\n",
    "        b[0] = b[p]\n",
    "        b[p] = temp1\n",
    "        \n",
    "        rest.insert(n,a[0,:].tolist())                  #зберігаємо головний рядок  'p'\n",
    "        rest[n].append(b[0])                            #зберігаємо елемент b[p]\n",
    "        \n",
    "        print(np.round(a,2),np.round(b,2) )            # показ з округленням 2ох цифр\n",
    "        w.append(a[a.shape[0]-1,0])\n",
    "        a = np.delete(a, 0, 1)                         # видалення\n",
    "        a = np.delete(a, 0, 0)\n",
    "        b = np.delete(b, 0, 0)\n",
    "        n = n-1\n",
    "        print(\"Maximum \", a_main)\n",
    "    else:\n",
    "        y=np.array([])\n",
    "        g = np.zeros((a.shape[0],a.shape[1]))\n",
    "        for i in reversed(range(0,n-1)):\n",
    "            y[i]=a[i][n]+ g[i]\n",
    "            for j in range(i+1,n):\n",
    "                y[i]-=a[i][j]*y[j]\n",
    "        nev = []\n",
    "        solution = x\n",
    "        for i in reversed(range(5)):\n",
    "            e = h[i,5]/h[i,i]\n",
    "            coef = h[i,(i+1):5]\n",
    "            for j,solution in enumerate(reversed(nev)):\n",
    "                e-=(solution*coef[j])/h[i,i]\n",
    "                nev.append(e/s)\n",
    "                nev = nev[::-1]\n",
    "        print(\"========\")\n",
    "        print(x)\n",
    "        print(nevo)"
   ]
  },
  {
   "cell_type": "code",
   "execution_count": 142,
   "metadata": {},
   "outputs": [
    {
     "name": "stdout",
     "output_type": "stream",
     "text": [
      "[[  6.59   1.28   0.79   1.2   -0.21]\n",
      " [  0.92   3.83   1.3   -1.63   1.02]\n",
      " [  1.15  -2.46   5.77   2.1    1.48]\n",
      " [  1.28   0.16   2.1    5.77 -18.  ]\n",
      " [  0.69  -1.68  -1.22   9.    -6.  ]\n",
      " [  0.     1.     2.     3.     4.  ]] [ 2.1   0.36  3.89 11.04 -0.27]\n",
      "[[-18.     0.16   2.1    5.77   1.28]\n",
      " [  0.     3.84   1.42  -1.3    0.99]\n",
      " [  0.    -2.45   5.94   2.58   1.26]\n",
      " [ -0.     1.28   0.77   1.13   6.58]\n",
      " [  0.    -1.73  -1.92   7.08   0.26]\n",
      " [  4.     1.     2.     3.     0.  ]] [11.04 -0.13  3.17  2.2   2.62]\n",
      "Maximum  -18.0\n",
      "[[ 3.84  1.42 -1.3   0.99]\n",
      " [-2.45  5.94  2.58  1.26]\n",
      " [ 1.28  0.77  1.13  6.58]\n",
      " [-1.73 -1.92  7.08  0.26]\n",
      " [ 1.    2.    3.    0.  ]] [-0.13  3.17  2.2   2.62]\n",
      "[[ 7.08 -1.92 -1.73  0.26]\n",
      " [ 0.    6.64 -1.82  1.16]\n",
      " [ 0.    1.07  1.55  6.53]\n",
      " [ 0.    1.07  3.52  1.04]\n",
      " [ 3.    2.    1.    0.  ]] [2.62 1.83 1.61 0.55]\n",
      "Maximum  7.076666666666667\n",
      "[[ 6.64 -1.82  1.16]\n",
      " [ 1.07  1.55  6.53]\n",
      " [ 1.07  3.52  1.04]\n",
      " [ 2.    1.    0.  ]] [1.83 1.61 0.55]\n",
      "[[ 6.64 -1.82  1.16]\n",
      " [ 0.    1.85  6.35]\n",
      " [ 0.    3.81  0.85]\n",
      " [ 2.    1.    0.  ]] [ 1.83  0.65 -0.41]\n",
      "Maximum  6.6406630512639335\n",
      "[[1.85 6.35]\n",
      " [3.81 0.85]\n",
      " [1.   0.  ]] [ 0.65 -0.41]\n",
      "[[6.35 1.85]\n",
      " [0.   3.56]\n",
      " [0.   1.  ]] [ 0.65 -1.52]\n",
      "Maximum  6.3461275802810775\n",
      "[[3.56]\n",
      " [1.  ]] [-1.52]\n",
      "[[3.56]\n",
      " [1.  ]] [-1.52]\n",
      "Maximum  3.5626502298727956\n",
      "========\n",
      "[ 0.33 -0.27  0.81 -0.42 -0.63]\n",
      "[[-0.00061333  0.00037006  0.0002756   0.00035135 -0.00042697]]\n"
     ]
    }
   ],
   "source": [
    "gauss_method(A,B)"
   ]
  },
  {
   "cell_type": "code",
   "execution_count": 143,
   "metadata": {},
   "outputs": [],
   "source": [
    "t = []\n",
    "for i in range(0,len(rest)):\n",
    "    if i%2 != 0:\n",
    "        t.append(rest[i])\n",
    "for i in range(0,len(t)):\n",
    "    t[i] = [ round(elem, 2) for elem in t[i] ]"
   ]
  },
  {
   "cell_type": "code",
   "execution_count": 144,
   "metadata": {},
   "outputs": [
    {
     "data": {
      "text/plain": [
       "[[3.56, -1.52],\n",
       " [6.35, 1.85, 0.65],\n",
       " [6.64, -1.82, 1.16, 1.83],\n",
       " [7.08, -1.92, -1.73, 0.26, 2.62],\n",
       " [-18.0, 0.16, 2.1, 5.77, 1.28, 11.04]]"
      ]
     },
     "execution_count": 144,
     "metadata": {},
     "output_type": "execute_result"
    }
   ],
   "source": [
    "t"
   ]
  },
  {
   "cell_type": "code",
   "execution_count": 145,
   "metadata": {},
   "outputs": [
    {
     "data": {
      "text/plain": [
       "[4.0, 3.0, 2.0, 0.0, 1.0]"
      ]
     },
     "execution_count": 145,
     "metadata": {},
     "output_type": "execute_result"
    }
   ],
   "source": [
    "w"
   ]
  },
  {
   "cell_type": "code",
   "execution_count": 146,
   "metadata": {},
   "outputs": [
    {
     "data": {
      "text/plain": [
       "11.8383"
      ]
     },
     "execution_count": 146,
     "metadata": {},
     "output_type": "execute_result"
    }
   ],
   "source": [
    "0.33*1.28 -0.27*5.77+ 0.81*2.1 -0.42*0.16 -0.63*(-18)"
   ]
  },
  {
   "cell_type": "code",
   "execution_count": 149,
   "metadata": {},
   "outputs": [
    {
     "data": {
      "text/plain": [
       "array([ 0.33, -0.27,  0.81, -0.42, -0.63])"
      ]
     },
     "execution_count": 149,
     "metadata": {},
     "output_type": "execute_result"
    }
   ],
   "source": [
    "x"
   ]
  },
  {
   "cell_type": "code",
   "execution_count": 150,
   "metadata": {},
   "outputs": [
    {
     "data": {
      "text/plain": [
       "array([11.04     , -0.13215  ,  3.1744525,  2.201325 ,  2.625    ])"
      ]
     },
     "execution_count": 150,
     "metadata": {},
     "output_type": "execute_result"
    }
   ],
   "source": [
    "B"
   ]
  },
  {
   "cell_type": "code",
   "execution_count": 157,
   "metadata": {},
   "outputs": [],
   "source": [
    "A = np.array([[6.59,   1.28,   0.79,  1.195, -0.21  ], \n",
    "              [0.92,   3.83,    1.3,  -1.63,  1.02  ],\n",
    "              [1.15,  -2.46,   5.77,    2.1,  1.483 ],\n",
    "              [1.285,  0.16,    2.1,   5.77,  -18   ],\n",
    "              [0.69,  -1.68, -1.217,      9,   -6   ]], dtype = float)"
   ]
  },
  {
   "cell_type": "code",
   "execution_count": 158,
   "metadata": {},
   "outputs": [],
   "source": [
    "qwerty =  np.dot(A,x) - B"
   ]
  },
  {
   "cell_type": "code",
   "execution_count": 159,
   "metadata": {},
   "outputs": [
    {
     "data": {
      "text/plain": [
       "array([-0.0006 ,  0.0045 ,  0.01111, -0.04155, -0.03447])"
      ]
     },
     "execution_count": 159,
     "metadata": {},
     "output_type": "execute_result"
    }
   ],
   "source": [
    "qwerty"
   ]
  },
  {
   "cell_type": "code",
   "execution_count": null,
   "metadata": {},
   "outputs": [],
   "source": []
  },
  {
   "cell_type": "code",
   "execution_count": null,
   "metadata": {},
   "outputs": [],
   "source": []
  },
  {
   "cell_type": "code",
   "execution_count": null,
   "metadata": {},
   "outputs": [],
   "source": []
  },
  {
   "cell_type": "code",
   "execution_count": null,
   "metadata": {},
   "outputs": [],
   "source": []
  },
  {
   "cell_type": "code",
   "execution_count": null,
   "metadata": {},
   "outputs": [],
   "source": []
  },
  {
   "cell_type": "code",
   "execution_count": null,
   "metadata": {},
   "outputs": [],
   "source": []
  },
  {
   "cell_type": "code",
   "execution_count": null,
   "metadata": {},
   "outputs": [],
   "source": []
  },
  {
   "cell_type": "code",
   "execution_count": null,
   "metadata": {},
   "outputs": [],
   "source": []
  },
  {
   "cell_type": "code",
   "execution_count": null,
   "metadata": {},
   "outputs": [],
   "source": []
  },
  {
   "cell_type": "code",
   "execution_count": null,
   "metadata": {},
   "outputs": [],
   "source": []
  },
  {
   "cell_type": "code",
   "execution_count": null,
   "metadata": {},
   "outputs": [],
   "source": []
  },
  {
   "cell_type": "code",
   "execution_count": null,
   "metadata": {},
   "outputs": [],
   "source": []
  },
  {
   "cell_type": "code",
   "execution_count": null,
   "metadata": {},
   "outputs": [],
   "source": []
  },
  {
   "cell_type": "code",
   "execution_count": null,
   "metadata": {},
   "outputs": [],
   "source": []
  },
  {
   "cell_type": "code",
   "execution_count": null,
   "metadata": {},
   "outputs": [],
   "source": []
  },
  {
   "cell_type": "code",
   "execution_count": null,
   "metadata": {},
   "outputs": [],
   "source": []
  },
  {
   "cell_type": "code",
   "execution_count": null,
   "metadata": {},
   "outputs": [],
   "source": []
  },
  {
   "cell_type": "code",
   "execution_count": null,
   "metadata": {},
   "outputs": [],
   "source": []
  },
  {
   "cell_type": "code",
   "execution_count": null,
   "metadata": {},
   "outputs": [],
   "source": []
  },
  {
   "cell_type": "code",
   "execution_count": null,
   "metadata": {},
   "outputs": [],
   "source": []
  },
  {
   "cell_type": "code",
   "execution_count": null,
   "metadata": {},
   "outputs": [],
   "source": []
  },
  {
   "cell_type": "code",
   "execution_count": null,
   "metadata": {},
   "outputs": [],
   "source": []
  },
  {
   "cell_type": "code",
   "execution_count": null,
   "metadata": {},
   "outputs": [],
   "source": []
  },
  {
   "cell_type": "code",
   "execution_count": null,
   "metadata": {},
   "outputs": [],
   "source": []
  },
  {
   "cell_type": "code",
   "execution_count": null,
   "metadata": {},
   "outputs": [],
   "source": []
  },
  {
   "cell_type": "code",
   "execution_count": null,
   "metadata": {},
   "outputs": [],
   "source": []
  },
  {
   "cell_type": "code",
   "execution_count": null,
   "metadata": {},
   "outputs": [],
   "source": []
  },
  {
   "cell_type": "code",
   "execution_count": null,
   "metadata": {},
   "outputs": [],
   "source": []
  },
  {
   "cell_type": "code",
   "execution_count": null,
   "metadata": {},
   "outputs": [],
   "source": []
  },
  {
   "cell_type": "code",
   "execution_count": null,
   "metadata": {},
   "outputs": [],
   "source": []
  },
  {
   "cell_type": "code",
   "execution_count": null,
   "metadata": {},
   "outputs": [],
   "source": []
  },
  {
   "cell_type": "code",
   "execution_count": null,
   "metadata": {},
   "outputs": [],
   "source": []
  },
  {
   "cell_type": "code",
   "execution_count": 82,
   "metadata": {
    "scrolled": true
   },
   "outputs": [],
   "source": [
    "u = np.array([[  0.  ,   0.  ,   0.  ,   3.56,   0.  ,  -1.52],\n",
    "       [  0.  ,   0.  ,   0.  ,   6.35,   1.85,   0.65],\n",
    "       [  0.  ,   0.  ,   6.64,  -1.82,   1.16,   1.83],\n",
    "       [  0.  ,   7.08,  -1.92,  -1.73,   0.26,   2.62],\n",
    "       [-18.  ,   0.16,   2.1 ,   5.77,   1.28,  11.04]])"
   ]
  },
  {
   "cell_type": "code",
   "execution_count": 126,
   "metadata": {},
   "outputs": [],
   "source": [
    "h = np.array([[-18.  ,   0.16,   2.1 ,   1.28,   5.73,  11.04] ,\n",
    "             [  0.  ,   7.08,  -1.92,  0.26,   -1.73,   2.62],\n",
    "             [  0.  ,   0.  ,   6.64,  1.16,   -1.82,   1.83],\n",
    "             [  0.  ,   0.  ,   0.  ,   1.85,   6.35,   0.65],\n",
    "             [  0.  ,   0.  ,   0.  ,   0,     3.56 ,  -1.52]])\n"
   ]
  },
  {
   "cell_type": "code",
   "execution_count": 127,
   "metadata": {},
   "outputs": [
    {
     "ename": "IndexError",
     "evalue": "index 0 is out of bounds for axis 0 with size 0",
     "output_type": "error",
     "traceback": [
      "\u001b[1;31m---------------------------------------------------------------------------\u001b[0m",
      "\u001b[1;31mIndexError\u001b[0m                                Traceback (most recent call last)",
      "\u001b[1;32m<ipython-input-127-6553e0aeee3e>\u001b[0m in \u001b[0;36m<module>\u001b[1;34m\u001b[0m\n\u001b[0;32m      5\u001b[0m     \u001b[0mcoef\u001b[0m \u001b[1;33m=\u001b[0m \u001b[0mh\u001b[0m\u001b[1;33m[\u001b[0m\u001b[0mi\u001b[0m\u001b[1;33m,\u001b[0m\u001b[1;33m(\u001b[0m\u001b[0mi\u001b[0m\u001b[1;33m+\u001b[0m\u001b[1;36m1\u001b[0m\u001b[1;33m)\u001b[0m\u001b[1;33m:\u001b[0m\u001b[1;36m5\u001b[0m\u001b[1;33m]\u001b[0m\u001b[1;33m\u001b[0m\u001b[1;33m\u001b[0m\u001b[0m\n\u001b[0;32m      6\u001b[0m     \u001b[1;32mfor\u001b[0m \u001b[0mj\u001b[0m\u001b[1;33m,\u001b[0m\u001b[0msolution\u001b[0m \u001b[1;32min\u001b[0m \u001b[0menumerate\u001b[0m\u001b[1;33m(\u001b[0m\u001b[0mreversed\u001b[0m\u001b[1;33m(\u001b[0m\u001b[0mnev\u001b[0m\u001b[1;33m)\u001b[0m\u001b[1;33m)\u001b[0m\u001b[1;33m:\u001b[0m\u001b[1;33m\u001b[0m\u001b[1;33m\u001b[0m\u001b[0m\n\u001b[1;32m----> 7\u001b[1;33m         \u001b[0mx\u001b[0m\u001b[1;33m-=\u001b[0m\u001b[1;33m(\u001b[0m\u001b[0msolution\u001b[0m\u001b[1;33m*\u001b[0m\u001b[0mcoef\u001b[0m\u001b[1;33m[\u001b[0m\u001b[0mj\u001b[0m\u001b[1;33m]\u001b[0m\u001b[1;33m)\u001b[0m\u001b[1;33m/\u001b[0m\u001b[0mh\u001b[0m\u001b[1;33m[\u001b[0m\u001b[0mi\u001b[0m\u001b[1;33m,\u001b[0m\u001b[0mi\u001b[0m\u001b[1;33m]\u001b[0m\u001b[1;33m\u001b[0m\u001b[1;33m\u001b[0m\u001b[0m\n\u001b[0m\u001b[0;32m      8\u001b[0m     \u001b[0mnev\u001b[0m\u001b[1;33m.\u001b[0m\u001b[0mappend\u001b[0m\u001b[1;33m(\u001b[0m\u001b[0mx\u001b[0m\u001b[1;33m/\u001b[0m\u001b[1;36m10000\u001b[0m\u001b[1;33m)\u001b[0m\u001b[1;33m\u001b[0m\u001b[1;33m\u001b[0m\u001b[0m\n\u001b[0;32m      9\u001b[0m \u001b[0mnev\u001b[0m \u001b[1;33m=\u001b[0m \u001b[0mnev\u001b[0m\u001b[1;33m[\u001b[0m\u001b[1;33m:\u001b[0m\u001b[1;33m:\u001b[0m\u001b[1;33m-\u001b[0m\u001b[1;36m1\u001b[0m\u001b[1;33m]\u001b[0m\u001b[1;33m\u001b[0m\u001b[1;33m\u001b[0m\u001b[0m\n",
      "\u001b[1;31mIndexError\u001b[0m: index 0 is out of bounds for axis 0 with size 0"
     ]
    }
   ],
   "source": [
    "nevo = []\n",
    "solution = np.array([ 0.33, -0.27,  0.81, -0.42, -0.63])\n",
    "for i in reversed(range(5)):\n",
    "    x = h[i,5]/h[i,i]\n",
    "    coef = h[i,(i+1):5]\n",
    "    for j,solution in enumerate(reversed(nev)):\n",
    "        x-=(solution*coef[j])/h[i,i]\n",
    "    nev.append(x/10000)\n",
    "nev = nev[::-1]\n",
    "nev"
   ]
  },
  {
   "cell_type": "code",
   "execution_count": 74,
   "metadata": {},
   "outputs": [
    {
     "data": {
      "text/plain": [
       "array([[  0.  ,   0.  ,   0.  ,   3.56,   0.  ,  -1.52],\n",
       "       [  0.  ,   0.  ,   0.  ,   6.35,   1.85,   0.65],\n",
       "       [  0.  ,   0.  ,   6.64,  -1.82,   1.16,   1.83],\n",
       "       [  0.  ,   7.08,  -1.92,  -1.73,   0.26,   2.62],\n",
       "       [-18.  ,   0.16,   2.1 ,   5.77,   1.28,  11.04]])"
      ]
     },
     "execution_count": 74,
     "metadata": {},
     "output_type": "execute_result"
    }
   ],
   "source": [
    "u"
   ]
  },
  {
   "cell_type": "code",
   "execution_count": 136,
   "metadata": {},
   "outputs": [],
   "source": [
    "Q = np.array([[6.59,   1.28,   0.79,  1.195, -0.21  ], \n",
    "              [0.92,   3.83,    1.3,  -1.63,  1.02  ],\n",
    "              [1.15,  -2.46,   5.77,    2.1,  1.483 ],\n",
    "              [1.285,  0.16,    2.1,   5.77,  -18   ],\n",
    "              [0.69,  -1.68, -1.217,      9,   -6   ]  ], dtype = float)\n",
    "B = np.array([2.1, 0.36, 3.89, 11.04, -0.27])\n",
    "global x\n",
    "x = np.linalg.solve(Q, B)"
   ]
  },
  {
   "cell_type": "code",
   "execution_count": 137,
   "metadata": {},
   "outputs": [],
   "source": [
    "x = np.round(x, 2)"
   ]
  },
  {
   "cell_type": "code",
   "execution_count": 138,
   "metadata": {},
   "outputs": [
    {
     "data": {
      "text/plain": [
       "array([ 0.33, -0.27,  0.81, -0.42, -0.63])"
      ]
     },
     "execution_count": 138,
     "metadata": {},
     "output_type": "execute_result"
    }
   ],
   "source": [
    "x"
   ]
  },
  {
   "cell_type": "code",
   "execution_count": 166,
   "metadata": {},
   "outputs": [],
   "source": [
    "c=np.array([0.29701491,-0.06113993,0.83056939,-0.42321109,-0.6316827 ]) # невязка"
   ]
  },
  {
   "cell_type": "code",
   "execution_count": 128,
   "metadata": {},
   "outputs": [],
   "source": [
    "nevo = np.array([[-6.133333408822938e-04,\n",
    " 3.7005649292589715e-04,\n",
    " 2.7560239179749418e-04,\n",
    " 3.513514979046463e-04,\n",
    " -4.2696629213483146e-04]])"
   ]
  },
  {
   "cell_type": "code",
   "execution_count": 129,
   "metadata": {},
   "outputs": [
    {
     "data": {
      "text/plain": [
       "array([[-0.00061333,  0.00037006,  0.0002756 ,  0.00035135, -0.00042697]])"
      ]
     },
     "execution_count": 129,
     "metadata": {},
     "output_type": "execute_result"
    }
   ],
   "source": [
    "nevo"
   ]
  },
  {
   "cell_type": "code",
   "execution_count": null,
   "metadata": {},
   "outputs": [],
   "source": []
  }
 ],
 "metadata": {
  "kernelspec": {
   "display_name": "Python 3",
   "language": "python",
   "name": "python3"
  },
  "language_info": {
   "codemirror_mode": {
    "name": "ipython",
    "version": 3
   },
   "file_extension": ".py",
   "mimetype": "text/x-python",
   "name": "python",
   "nbconvert_exporter": "python",
   "pygments_lexer": "ipython3",
   "version": "3.7.1"
  }
 },
 "nbformat": 4,
 "nbformat_minor": 2
}
