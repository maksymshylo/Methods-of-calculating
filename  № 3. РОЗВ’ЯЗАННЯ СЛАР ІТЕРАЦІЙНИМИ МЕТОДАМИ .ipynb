{
 "cells": [
  {
   "cell_type": "code",
   "execution_count": 1,
   "metadata": {},
   "outputs": [],
   "source": [
    "import numpy as np"
   ]
  },
  {
   "cell_type": "code",
   "execution_count": 16,
   "metadata": {},
   "outputs": [],
   "source": [
    "A = np.array([[6.59,   1.28,   0.79,  1.195, -0.21  ], \n",
    "              [0.92,   3.83,    1.3,  -1.63,  1.02  ],\n",
    "              [1.15,  -2.46,   5.77,    2.1,  1.483 ],\n",
    "              [1.285,  0.16,    2.1,   5.77,  -18   ],\n",
    "              [0.69,  -1.68, -1.217,      9,   -6   ] ], dtype = float)\n",
    "B = np.array([2.1, 0.36, 3.89, 11.04, -0.27]) \n",
    "eps = 0.000000001"
   ]
  },
  {
   "cell_type": "code",
   "execution_count": 19,
   "metadata": {},
   "outputs": [
    {
     "data": {
      "text/plain": [
       "array([-0.04709818,  0.38731978,  0.51350467,  1.23504243, -0.15744419])"
      ]
     },
     "execution_count": 19,
     "metadata": {},
     "output_type": "execute_result"
    }
   ],
   "source": [
    "np.linalg.solve(A,B)"
   ]
  },
  {
   "cell_type": "code",
   "execution_count": 3,
   "metadata": {},
   "outputs": [],
   "source": [
    "def check_diag_more(a):\n",
    "    r = []\n",
    "    for i in range(0,a.shape[0]):\n",
    "        s = []\n",
    "        for j in range(0, a.shape[1]):\n",
    "            if i == j:\n",
    "                s.append(0)\n",
    "            else:\n",
    "                s.append(abs(a[i,j]))\n",
    "        r.append(sum(s))\n",
    "    r = np.array(r)\n",
    "    for i in range(0,len(r)):\n",
    "        if abs(np.diag(a)[i]) >= r[i]:\n",
    "            print(True)\n",
    "        else:\n",
    "            print(False)"
   ]
  },
  {
   "cell_type": "code",
   "execution_count": 4,
   "metadata": {},
   "outputs": [
    {
     "name": "stdout",
     "output_type": "stream",
     "text": [
      "True\n",
      "False\n",
      "False\n",
      "False\n",
      "False\n"
     ]
    }
   ],
   "source": [
    "check_diag_more(A)"
   ]
  },
  {
   "cell_type": "code",
   "execution_count": 18,
   "metadata": {},
   "outputs": [],
   "source": [
    "A = np.array([[6.59,   1.28,   0.79,  1.195, -0.21  ], \n",
    "              [0.92,   4.93,    1.3,  -1.63,  1.02  ],\n",
    "              [2.07,  1.37,   7.07,    0.47,  2.503 ],\n",
    "              [-0.145,  -1.74,    -2.1,   6.57,  1.58  ],\n",
    "              [1.285,  0.16,    2.1,   5.77,  -18   ] ], dtype = float)\n",
    "B = np.array([2.1, 0.36, 4.25,6.12, 11.04]) "
   ]
  },
  {
   "cell_type": "code",
   "execution_count": 6,
   "metadata": {},
   "outputs": [
    {
     "name": "stdout",
     "output_type": "stream",
     "text": [
      "True\n",
      "True\n",
      "True\n",
      "True\n",
      "True\n"
     ]
    }
   ],
   "source": [
    "check_diag_more(A)"
   ]
  },
  {
   "cell_type": "code",
   "execution_count": 7,
   "metadata": {},
   "outputs": [
    {
     "data": {
      "text/plain": [
       "array([-0.04709818,  0.38731978,  0.51350467,  1.23504243, -0.15744419])"
      ]
     },
     "execution_count": 7,
     "metadata": {},
     "output_type": "execute_result"
    }
   ],
   "source": [
    "np.linalg.solve(A,B)"
   ]
  },
  {
   "cell_type": "code",
   "execution_count": 8,
   "metadata": {},
   "outputs": [],
   "source": [
    "def s(a):\n",
    "    d = []\n",
    "    for i in range(0,a.shape[0]):\n",
    "        v = []\n",
    "        for j in range(0, a.shape[1]):\n",
    "            if i == j:\n",
    "                v.append(0)\n",
    "            else:\n",
    "                v.append(a[i,j]*x[j])\n",
    "        d.append(sum(v))\n",
    "    return d "
   ]
  },
  {
   "cell_type": "code",
   "execution_count": 20,
   "metadata": {},
   "outputs": [
    {
     "name": "stdout",
     "output_type": "stream",
     "text": [
      "COUNTER:  1 [ 0.31866464  0.01355548  0.50520413  1.10361059 -0.17775474]\n",
      "COUNTER:  2 [ 0.04968051  0.33219547  0.51177888  1.22691201 -0.15383285]\n",
      "COUNTER:  3 [-0.03459488  0.38200625  0.51013548  1.23196576 -0.15797814]\n",
      "COUNTER:  4 [-0.04512132  0.38693253  0.51339448  1.23507669 -0.15730838]\n",
      "COUNTER:  5 [-0.04701164  0.38731591  0.51342972  1.2349867  -0.15746465]\n",
      "COUNTER:  6 [-0.04707899  0.38732177  0.51350961  1.23504989 -0.15743983]\n",
      "COUNTER:  7 [-0.04710037  0.38732044  0.51350314  1.23504103 -0.15744497]\n",
      "COUNTER:  8 [-0.04709789  0.38731982  0.51350494  1.23504273 -0.15744404]\n",
      "COUNTER:  9 [-0.04709827  0.38731979  0.51350462  1.23504238 -0.15744421]\n",
      "COUNTER:  10 [-0.04709817  0.38731978  0.51350468  1.23504244 -0.15744418]\n",
      "COUNTER:  11 [-0.04709818  0.38731978  0.51350466  1.23504243 -0.15744419]\n",
      "COUNTER:  12 [-0.04709818  0.38731978  0.51350467  1.23504243 -0.15744419]\n",
      "COUNTER:  13 [-0.04709818  0.38731978  0.51350467  1.23504243 -0.15744419]\n"
     ]
    }
   ],
   "source": [
    "x = np.zeros(5)\n",
    "res = []\n",
    "counter =0\n",
    "error = 2\n",
    "while error>eps:\n",
    "    for i in range(0,len(x)):\n",
    "        x[i] = (1/A[i,i]) * (B[i] - s(A)[i])\n",
    "    res.append(x.copy())\n",
    "    if counter>=1:\n",
    "        #print(res[counter]-res[counter-1])\n",
    "        error = abs(res[counter]-res[counter-1]).max()\n",
    "    counter = counter +1\n",
    "    print('COUNTER: ',counter,x)"
   ]
  },
  {
   "cell_type": "code",
   "execution_count": 21,
   "metadata": {},
   "outputs": [
    {
     "data": {
      "text/plain": [
       "array([-7.07512715e-10, -7.06673609e-11, -7.35058237e-10, -3.42915030e-10,\n",
       "        0.00000000e+00])"
      ]
     },
     "execution_count": 21,
     "metadata": {},
     "output_type": "execute_result"
    }
   ],
   "source": [
    "np.dot(A,x)-B"
   ]
  },
  {
   "cell_type": "code",
   "execution_count": null,
   "metadata": {},
   "outputs": [],
   "source": []
  },
  {
   "cell_type": "code",
   "execution_count": null,
   "metadata": {},
   "outputs": [],
   "source": []
  }
 ],
 "metadata": {
  "kernelspec": {
   "display_name": "Python 3",
   "language": "python",
   "name": "python3"
  },
  "language_info": {
   "codemirror_mode": {
    "name": "ipython",
    "version": 3
   },
   "file_extension": ".py",
   "mimetype": "text/x-python",
   "name": "python",
   "nbconvert_exporter": "python",
   "pygments_lexer": "ipython3",
   "version": "3.7.1"
  }
 },
 "nbformat": 4,
 "nbformat_minor": 2
}
