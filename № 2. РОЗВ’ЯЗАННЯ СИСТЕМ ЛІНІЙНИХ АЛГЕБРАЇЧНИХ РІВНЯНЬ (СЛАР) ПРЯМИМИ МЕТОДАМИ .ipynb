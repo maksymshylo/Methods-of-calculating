{
 "cells": [
  {
   "cell_type": "code",
   "execution_count": 4,
   "metadata": {},
   "outputs": [],
   "source": [
    "import numpy as np"
   ]
  },
  {
   "cell_type": "code",
   "execution_count": 5,
   "metadata": {},
   "outputs": [],
   "source": [
    "A = np.array([[6.59,   1.28,   0.79,  1.195, -0.21  ], \n",
    "              [0.92,   3.83,    1.3,  -1.63,  1.02  ],\n",
    "              [1.15,  -2.46,   5.77,    2.1,  1.483 ],\n",
    "              [1.285,  0.16,    2.1,   5.77,  -18   ],\n",
    "              [0.69,  -1.68, -1.217,      9,   -6   ]  ], dtype = float)"
   ]
  },
  {
   "cell_type": "code",
   "execution_count": 6,
   "metadata": {},
   "outputs": [
    {
     "data": {
      "text/plain": [
       "array([[  6.59 ,   1.28 ,   0.79 ,   1.195,  -0.21 ],\n",
       "       [  0.92 ,   3.83 ,   1.3  ,  -1.63 ,   1.02 ],\n",
       "       [  1.15 ,  -2.46 ,   5.77 ,   2.1  ,   1.483],\n",
       "       [  1.285,   0.16 ,   2.1  ,   5.77 , -18.   ],\n",
       "       [  0.69 ,  -1.68 ,  -1.217,   9.   ,  -6.   ]])"
      ]
     },
     "execution_count": 6,
     "metadata": {},
     "output_type": "execute_result"
    }
   ],
   "source": [
    "A"
   ]
  },
  {
   "cell_type": "code",
   "execution_count": 7,
   "metadata": {},
   "outputs": [],
   "source": [
    "B = np.array([2.1, 0.36, 3.89, 11.04, -0.27])"
   ]
  },
  {
   "cell_type": "code",
   "execution_count": 8,
   "metadata": {},
   "outputs": [
    {
     "data": {
      "text/plain": [
       "array([ 2.1 ,  0.36,  3.89, 11.04, -0.27])"
      ]
     },
     "execution_count": 8,
     "metadata": {},
     "output_type": "execute_result"
    }
   ],
   "source": [
    "B"
   ]
  },
  {
   "cell_type": "code",
   "execution_count": 209,
   "metadata": {},
   "outputs": [],
   "source": [
    "x = np.linalg.solve(A, B)"
   ]
  },
  {
   "cell_type": "code",
   "execution_count": 210,
   "metadata": {},
   "outputs": [
    {
     "data": {
      "text/plain": [
       "array([ 0.32954436, -0.26882477,  0.80811347, -0.41729254, -0.63168262])"
      ]
     },
     "execution_count": 210,
     "metadata": {},
     "output_type": "execute_result"
    }
   ],
   "source": [
    "x"
   ]
  },
  {
   "cell_type": "markdown",
   "metadata": {},
   "source": [
    "__Шило М. ФІ - 61, Варіант 10__"
   ]
  },
  {
   "cell_type": "markdown",
   "metadata": {},
   "source": [
    "### Метод Гауса"
   ]
  },
  {
   "cell_type": "code",
   "execution_count": 211,
   "metadata": {},
   "outputs": [],
   "source": [
    "def ind(matr,el):                                      # функція ind показує розміщення елемента 'el' в м-ці 'matr'\n",
    "    a = np.where(matr == el)\n",
    "    r = [a[0][0].tolist(),a[1][0].tolist()]\n",
    "    return r"
   ]
  },
  {
   "cell_type": "code",
   "execution_count": null,
   "metadata": {},
   "outputs": [],
   "source": []
  },
  {
   "cell_type": "code",
   "execution_count": 212,
   "metadata": {},
   "outputs": [],
   "source": [
    "def gauss_method(a,b):\n",
    "    n = a.shape[1]\n",
    "    global rest\n",
    "    rest = [0]*n\n",
    "    \n",
    "    while n >0:\n",
    "        print(a.shape)                                   # матриця А має розмірність\n",
    "        a_main = abs(a).max()                            # знаходимо найбільший елемент м-ці А\n",
    "        if a_main in a:\n",
    "            a_main = a_main\n",
    "        else:\n",
    "            a_main = -a_main\n",
    "        p = ind(a,a_main)[0]                             # головний рядок\n",
    "        q = ind(a,a_main)[1]                             # головний стовпець\n",
    "        m = []                                           # множники m_i\n",
    "        for i in range(0, len(a[:,q])):\n",
    "            if i!=p:\n",
    "                m.append(a[:, q][i]/a[p,q])\n",
    "            else:\n",
    "                m.append(0)\n",
    "        print(\" \")        \n",
    "        print(\"Множники m[i]: \",m )\n",
    "        print(\" \")\n",
    "    \n",
    "        rest.insert(n,a[p,:].tolist())                  #зберігаємо головний рядок  'p'\n",
    "        rest[n].append(b[p])                            #зберігаємо елемент b[p]\n",
    "        for i in range(0,a.shape[0] ):\n",
    "            for j in range(0, a.shape[1]):\n",
    "                a[i][j] = a[i][j] - m[i]*a[p][j]       #головний алгоритм\n",
    "                b[i] = b[i] - m[i]*a[p][j]\n",
    "        print(np.round(a,2),np.round(b,2) )            # показ з округленням 2ох цифр\n",
    "        a = np.delete(a, q, 1)                         # видалення\n",
    "        a = np.delete(a, p, 0)\n",
    "        b = np.delete(b, p, 0)\n",
    "        print(a.shape)\n",
    "        n = n-1\n",
    "    else:\n",
    "        print(rest)"
   ]
  },
  {
   "cell_type": "code",
   "execution_count": 213,
   "metadata": {},
   "outputs": [
    {
     "name": "stdout",
     "output_type": "stream",
     "text": [
      "Початкова матриця\n",
      "[[  6.59    1.28    0.79    1.195  -0.21 ]\n",
      " [  0.92    3.83    1.3    -1.63    1.02 ]\n",
      " [  1.15   -2.46    5.77    2.1     1.483]\n",
      " [  1.285   0.16    2.1     5.77  -18.   ]\n",
      " [  0.69   -1.68   -1.217   9.     -6.   ]]\n",
      "(5, 5)\n",
      " \n",
      "Множники m[i]:  [0.011666666666666665, -0.05666666666666667, -0.0823888888888889, 0, 0.3333333333333333]\n",
      " \n",
      "[[  6.58   1.28   0.77   1.13  -0.  ]\n",
      " [  0.99   3.84   1.42  -1.3    0.  ]\n",
      " [  1.26  -2.45   5.94   2.58   0.  ]\n",
      " [  1.28   0.16   2.1    5.77 -18.  ]\n",
      " [  0.26  -1.73  -1.92   7.08   0.  ]] [ 2.2  -0.13  3.17 11.04  2.62]\n",
      "(4, 4)\n",
      "(4, 4)\n",
      " \n",
      "Множники m[i]:  [0.15935233160621762, -0.1841309467734338, 0.3639261265504789, 0]\n",
      " \n",
      "[[ 6.53  1.55  1.07  0.  ]\n",
      " [ 1.04  3.52  1.07  0.  ]\n",
      " [ 1.16 -1.82  6.64  0.  ]\n",
      " [ 0.26 -1.73 -1.92  7.08]] [1.61 0.55 1.83 2.62]\n",
      "(3, 3)\n",
      "(3, 3)\n",
      " \n",
      "Множники m[i]:  [0.16127582613686103, 0.16052929757254122, 0]\n",
      " \n",
      "[[ 6.35  1.85  0.  ]\n",
      " [ 0.85  3.81  0.  ]\n",
      " [ 1.16 -1.82  6.64]] [ 0.65 -0.41  1.83]\n",
      "(2, 2)\n",
      "(2, 2)\n",
      " \n",
      "Множники m[i]:  [0, 0.13467748323771314]\n",
      " \n",
      "[[6.35 1.85]\n",
      " [0.   3.56]] [ 0.65 -1.52]\n",
      "(1, 1)\n",
      "(1, 1)\n",
      " \n",
      "Множники m[i]:  [0]\n",
      " \n",
      "[[3.56]] [-1.52]\n",
      "(0, 0)\n",
      "[0, [3.5626502298727956, -1.5173497701272047], 0, [6.3461275802810775, 1.8472229563337383, 0.6483505366148152], 0, [1.160642385774847, -1.8160124917569473, 6.6406630512639335, 1.832292945281833], 0, [0.26166666666666666, -1.7333333333333332, -1.917, 7.076666666666667, 2.625], 0, [1.285, 0.16, 2.1, 5.77, -18.0, 11.04]]\n"
     ]
    }
   ],
   "source": [
    "print(\"Початкова матриця\")\n",
    "print(np.round(A,4))\n",
    "gauss_method(A,B)"
   ]
  },
  {
   "cell_type": "code",
   "execution_count": 186,
   "metadata": {},
   "outputs": [
    {
     "data": {
      "text/plain": [
       "[0,\n",
       " [3.5626502298727956, -1.5173497701272047],\n",
       " 0,\n",
       " [6.3461275802810775, 1.8472229563337383, 0.6483505366148152],\n",
       " 0,\n",
       " [1.160642385774847,\n",
       "  -1.8160124917569473,\n",
       "  6.6406630512639335,\n",
       "  1.832292945281833],\n",
       " 0,\n",
       " [0.26166666666666666, -1.7333333333333332, -1.917, 7.076666666666667, 2.625],\n",
       " 0,\n",
       " [1.285, 0.16, 2.1, 5.77, -18.0, 11.04]]"
      ]
     },
     "execution_count": 186,
     "metadata": {},
     "output_type": "execute_result"
    }
   ],
   "source": [
    "rest"
   ]
  },
  {
   "cell_type": "code",
   "execution_count": 187,
   "metadata": {},
   "outputs": [],
   "source": [
    "t = []\n",
    "for i in range(0,len(rest)):\n",
    "    if i%2 != 0:\n",
    "        t.append(rest[i])"
   ]
  },
  {
   "cell_type": "code",
   "execution_count": 188,
   "metadata": {},
   "outputs": [],
   "source": [
    "for i in range(0,len(t)):\n",
    "    t[i] = [ round(elem, 2) for elem in t[i] ]"
   ]
  },
  {
   "cell_type": "code",
   "execution_count": 189,
   "metadata": {},
   "outputs": [],
   "source": [
    "t.reverse()"
   ]
  },
  {
   "cell_type": "code",
   "execution_count": 190,
   "metadata": {},
   "outputs": [
    {
     "data": {
      "text/plain": [
       "[[1.28, 0.16, 2.1, 5.77, -18.0, 11.04],\n",
       " [0.26, -1.73, -1.92, 7.08, 2.62],\n",
       " [1.16, -1.82, 6.64, 1.83],\n",
       " [6.35, 1.85, 0.65],\n",
       " [3.56, -1.52]]"
      ]
     },
     "execution_count": 190,
     "metadata": {},
     "output_type": "execute_result"
    }
   ],
   "source": [
    "t   # тіпа розв'язок"
   ]
  },
  {
   "cell_type": "code",
   "execution_count": 9,
   "metadata": {},
   "outputs": [
    {
     "data": {
      "text/plain": [
       "array([6.59 , 0.92 , 1.15 , 1.285, 0.69 ])"
      ]
     },
     "execution_count": 9,
     "metadata": {},
     "output_type": "execute_result"
    }
   ],
   "source": [
    "A[:,0]"
   ]
  },
  {
   "cell_type": "code",
   "execution_count": null,
   "metadata": {},
   "outputs": [],
   "source": [
    "[[  6.58   1.28   0.77   1.13  -0.  ]\n",
    " [  0.99   3.84   1.42  -1.3    0.  ]\n",
    " [  1.26  -2.45   5.94   2.58   0.  ]\n",
    " [  1.28   0.16   2.1    5.77 -18.  ]\n",
    " [  0.26  -1.73  -1.92   7.08   0.  ]]"
   ]
  }
 ],
 "metadata": {
  "kernelspec": {
   "display_name": "Python 3",
   "language": "python",
   "name": "python3"
  },
  "language_info": {
   "codemirror_mode": {
    "name": "ipython",
    "version": 3
   },
   "file_extension": ".py",
   "mimetype": "text/x-python",
   "name": "python",
   "nbconvert_exporter": "python",
   "pygments_lexer": "ipython3",
   "version": "3.7.1"
  }
 },
 "nbformat": 4,
 "nbformat_minor": 2
}
