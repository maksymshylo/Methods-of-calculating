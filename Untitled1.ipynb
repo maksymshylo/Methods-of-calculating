{
 "cells": [
  {
   "cell_type": "markdown",
   "metadata": {},
   "source": [
    "Додаткове завдання"
   ]
  },
  {
   "cell_type": "code",
   "execution_count": 1,
   "metadata": {},
   "outputs": [],
   "source": [
    "import numpy as np"
   ]
  },
  {
   "cell_type": "code",
   "execution_count": 2,
   "metadata": {},
   "outputs": [],
   "source": [
    "A = np.array([[2.2,   1, 0.5,    2],\n",
    "              [1  , 1.3,   2,    1],\n",
    "              [0.5,   2, 0.5,  1.6],\n",
    "              [  2,   1, 1.6,   2]], dtype = float)"
   ]
  },
  {
   "cell_type": "code",
   "execution_count": 3,
   "metadata": {},
   "outputs": [
    {
     "name": "stdout",
     "output_type": "stream",
     "text": [
      "[ 5.65203233  1.54541834  0.22263593 -1.42008659]\n",
      "\n",
      "[[ 0.53173607  0.62892976  0.52192057  0.22204284]\n",
      " [ 0.44619412 -0.57257423  0.45486932 -0.51591032]\n",
      " [ 0.40881553 -0.4856538  -0.15344702  0.75727423]\n",
      " [ 0.59248411  0.20185762 -0.7050864  -0.33327054]]\n"
     ]
    }
   ],
   "source": [
    "w, v = np.linalg.eig(A)\n",
    "print(w)\n",
    "print()\n",
    "print(v)"
   ]
  },
  {
   "cell_type": "code",
   "execution_count": 4,
   "metadata": {},
   "outputs": [],
   "source": [
    "def Danilevskyi_method(A):\n",
    "    global K1,K2,K3\n",
    "    for k in range(0,A.shape[0] -1):\n",
    "        B = np.eye(A.shape[0])\n",
    "        for i in range(0,len( B[B.shape[0] - 2])):\n",
    "            if i == A.shape[1]-(2+k):\n",
    "                B[B.shape[0] - (2+k),i] = 1/A[A.shape[0]-(1+k), A.shape[1]-(2+k)]\n",
    "            else:\n",
    "                B[B.shape[0] - (2+k),i] = - A[A.shape[0]-(1+k),i]/A[A.shape[0]-(1+k), A.shape[1]-(2+k)]\n",
    "        B_1 = np.linalg.inv(B)\n",
    "        D = np.round(B_1.dot(A).dot(B),2)\n",
    "        A = D\n",
    "        \n",
    "    return D"
   ]
  },
  {
   "cell_type": "code",
   "execution_count": 5,
   "metadata": {},
   "outputs": [
    {
     "data": {
      "text/plain": [
       "array([[  6.01,   0.14, -12.74,   2.78],\n",
       "       [  1.  ,   0.  ,   0.  ,   0.  ],\n",
       "       [  0.  ,   1.  ,   0.  ,   0.  ],\n",
       "       [  0.  ,   0.  ,   1.  ,   0.  ]])"
      ]
     },
     "execution_count": 5,
     "metadata": {},
     "output_type": "execute_result"
    }
   ],
   "source": [
    "Danilevskyi_method(A)"
   ]
  },
  {
   "cell_type": "code",
   "execution_count": 6,
   "metadata": {},
   "outputs": [
    {
     "data": {
      "text/plain": [
       "array([-6.01, -0.14, 12.74, -2.78])"
      ]
     },
     "execution_count": 6,
     "metadata": {},
     "output_type": "execute_result"
    }
   ],
   "source": [
    "coef = -Danilevskyi_method(A)[0,]\n",
    "coef"
   ]
  },
  {
   "cell_type": "code",
   "execution_count": 7,
   "metadata": {},
   "outputs": [
    {
     "data": {
      "text/plain": [
       "array([ 5.65, -1.42,  1.55,  0.22])"
      ]
     },
     "execution_count": 7,
     "metadata": {},
     "output_type": "execute_result"
    }
   ],
   "source": [
    "coef=np.concatenate((np.array([pow(1,A.shape[0])]), coef), axis=None)\n",
    "np.round(np.roots(coef),2)"
   ]
  },
  {
   "cell_type": "code",
   "execution_count": 9,
   "metadata": {},
   "outputs": [
    {
     "data": {
      "text/plain": [
       "'K1'"
      ]
     },
     "execution_count": 9,
     "metadata": {},
     "output_type": "execute_result"
    }
   ],
   "source": [
    "\"K{}\".format(1)"
   ]
  },
  {
   "cell_type": "code",
   "execution_count": null,
   "metadata": {},
   "outputs": [],
   "source": []
  }
 ],
 "metadata": {
  "kernelspec": {
   "display_name": "Python 3",
   "language": "python",
   "name": "python3"
  },
  "language_info": {
   "codemirror_mode": {
    "name": "ipython",
    "version": 3
   },
   "file_extension": ".py",
   "mimetype": "text/x-python",
   "name": "python",
   "nbconvert_exporter": "python",
   "pygments_lexer": "ipython3",
   "version": "3.7.1"
  }
 },
 "nbformat": 4,
 "nbformat_minor": 2
}
